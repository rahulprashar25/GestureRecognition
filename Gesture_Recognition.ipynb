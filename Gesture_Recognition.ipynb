{
 "cells": [
  {
   "cell_type": "markdown",
   "metadata": {},
   "source": [
    "# Gesture Recognition\n",
    "In this group project, you are going to build a 3D Conv model that will be able to predict the 5 gestures correctly. Please import the following libraries to get started. Once you have completed the code you can download the notebook for making a submission."
   ]
  },
  {
   "cell_type": "code",
   "execution_count": 1,
   "metadata": {},
   "outputs": [],
   "source": [
    "import numpy as np\n",
    "import os\n",
    "from imageio import imread\n",
    "from skimage.transform import resize\n",
    "import datetime\n",
    "import os"
   ]
  },
  {
   "cell_type": "markdown",
   "metadata": {},
   "source": [
    "We set the random seed so that the results don't vary drastically."
   ]
  },
  {
   "cell_type": "code",
   "execution_count": 2,
   "metadata": {},
   "outputs": [],
   "source": [
    "np.random.seed(30)\n",
    "import random as rn\n",
    "rn.seed(30)\n",
    "from tensorflow import keras\n",
    "import tensorflow as tf\n",
    "tf.random.set_seed(30)\n",
    "\n",
    "import keras\n",
    "from keras.preprocessing.image import ImageDataGenerator \n",
    "\n",
    "import matplotlib.pyplot as plt\n",
    "import seaborn as sns\n",
    "\n",
    "import warnings\n",
    "warnings.filterwarnings(\"ignore\")"
   ]
  },
  {
   "cell_type": "markdown",
   "metadata": {},
   "source": [
    "In this block, you read the folder names for training and validation. You also set the `batch_size` here. Note that you set the batch size in such a way that you are able to use the GPU in full capacity. You keep increasing the batch size until the machine throws an error."
   ]
  },
  {
   "cell_type": "markdown",
   "metadata": {},
   "source": [
    "**data path: /home/datasets/Project_data**"
   ]
  },
  {
   "cell_type": "code",
   "execution_count": 3,
   "metadata": {},
   "outputs": [],
   "source": [
    "train_doc = np.random.permutation(open('/home/datasets/Project_data/train.csv').readlines())\n",
    "val_doc = np.random.permutation(open('/home/datasets/Project_data/val.csv').readlines())\n",
    "batch_size = 30 #will experiment with the size below\n",
    "total_frames = 30"
   ]
  },
  {
   "cell_type": "markdown",
   "metadata": {},
   "source": [
    "## Generator\n",
    "This is one of the most important part of the code. The overall structure of the generator has been given. In the generator, you are going to preprocess the images as you have images of 2 different dimensions as well as create a batch of video frames. You have to experiment with `img_idx`, `y`,`z` and normalization such that you get high accuracy."
   ]
  },
  {
   "cell_type": "code",
   "execution_count": 4,
   "metadata": {},
   "outputs": [],
   "source": [
    "def generator(frames_to_sample,frame_size,source_path, folder_list, batch_size):\n",
    "    print( 'Source path = ', source_path, '; batch size =', batch_size)\n",
    "    img_idx = np.round(np.linspace(0,total_frames-1,frames_to_sample)).astype(int) #create a list of image numbers you want to use for a particular video\n",
    "    x = frames_to_sample \n",
    "    y = frame_size\n",
    "    z = frame_size\n",
    "    while True:\n",
    "        t = np.random.permutation(folder_list)\n",
    "        num_batches = len(folder_list)//batch_size # calculate the number of batches\n",
    "        for batch in range(num_batches): # we iterate over the number of batches\n",
    "            batch_data = np.zeros((batch_size,x,y,z,3)) # x is the number of images you use for each video, (y,z) is the final size of the input images and 3 is the number of channels RGB\n",
    "            batch_labels = np.zeros((batch_size,5)) # batch_labels is the one hot representation of the output\n",
    "            for folder in range(batch_size): # iterate over the batch_size\n",
    "                imgs = os.listdir(source_path+'/'+ t[folder + (batch*batch_size)].split(';')[0]) # read all the images in the folder\n",
    "                for idx,item in enumerate(img_idx): #  Iterate iver the frames/images of a folder to read them in\n",
    "                    image = imread(source_path+'/'+ t[folder + (batch*batch_size)].strip().split(';')[0]+'/'+imgs[item]).astype(np.float32)\n",
    "                    \n",
    "                    #crop the images and resize them. Note that the images are of 2 different shape \n",
    "                    #and the conv3D will throw error if the inputs in a batch have different shapes\n",
    "                    resized = resize(image,(y,z))\n",
    "                    \n",
    "                    norm = resized/127.5-1 #Normalize data\n",
    "                          \n",
    "                    batch_data[folder,idx,:,:,0] = (norm[:,:,0]) #normalise and feed in the image\n",
    "                    batch_data[folder,idx,:,:,1] = (norm[:,:,1]) #normalise and feed in the image\n",
    "                    batch_data[folder,idx,:,:,2] = (norm[:,:,2]) #normalise and feed in the image\n",
    "                    \n",
    "                batch_labels[folder, int(t[folder + (batch*batch_size)].strip().split(';')[2])] = 1\n",
    "            yield batch_data, batch_labels #you yield the batch_data and the batch_labels, remember what does yield do\n",
    "\n",
    "        \n",
    "        # write the code for the remaining data points which are left after full batches\n",
    "        if (len(folder_list) != batch_size*num_batches):\n",
    "            print(\"Batch: \",num_batches+1,\"Index:\", batch_size)\n",
    "            batch_size = len(folder_list) - (batch_size*num_batches)\n",
    "            batch_data = np.zeros((batch_size,x,y,z,3)) # x is the number of images you use for each video, (y,z) is the final size of the input images and 3 is the number of channels RGB\n",
    "            batch_labels = np.zeros((batch_size,5)) # batch_labels is the one hot representation of the output\n",
    "            for folder in range(batch_size): # iterate over the batch_size\n",
    "                imgs = os.listdir(source_path+'/'+ t[folder + (batch*batch_size)].split(';')[0]) # read all the images in the folder\n",
    "                for idx,item in enumerate(img_idx): #  Iterate iver the frames/images of a folder to read them in\n",
    "                    image = imread(source_path+'/'+ t[folder + (batch*batch_size)].strip().split(';')[0]+'/'+imgs[item]).astype(np.float32)\n",
    "                    \n",
    "                    #crop the images and resize them. Note that the images are of 2 different shape \n",
    "                    #and the conv3D will throw error if the inputs in a batch have different shapes\n",
    "                    resized = resize(image,(y,z))\n",
    "                    \n",
    "                    norm = resized/127.5-1 #Normalize data\n",
    "                    \n",
    "                    batch_data[folder,idx,:,:,0] = (norm[:,:,0]) #normalise and feed in the image\n",
    "                    batch_data[folder,idx,:,:,1] = (norm[:,:,1]) #normalise and feed in the image\n",
    "                    batch_data[folder,idx,:,:,2] = (norm[:,:,2]) #normalise and feed in the image\n",
    "                   \n",
    "                batch_labels[folder, int(t[folder + (batch*batch_size)].strip().split(';')[2])] = 1\n",
    "\n",
    "            yield batch_data, batch_labels"
   ]
  },
  {
   "cell_type": "markdown",
   "metadata": {},
   "source": [
    "Note here that a video is represented above in the generator as (number of images, height, width, number of channels). Take this into consideration while creating the model architecture."
   ]
  },
  {
   "cell_type": "code",
   "execution_count": 5,
   "metadata": {},
   "outputs": [
    {
     "name": "stdout",
     "output_type": "stream",
     "text": [
      "# training sequences = 663\n",
      "# validation sequences = 100\n",
      "# epochs = 15\n"
     ]
    }
   ],
   "source": [
    "curr_dt_time = datetime.datetime.now()\n",
    "train_path = '/home/datasets/Project_data/train'\n",
    "val_path = '/home/datasets/Project_data/val'\n",
    "num_train_sequences = len(train_doc)\n",
    "print('# training sequences =', num_train_sequences)\n",
    "num_val_sequences = len(val_doc)\n",
    "print('# validation sequences =', num_val_sequences)\n",
    "num_epochs = 15 # choose the number of epochs\n",
    "print ('# epochs =', num_epochs)"
   ]
  },
  {
   "cell_type": "code",
   "execution_count": 6,
   "metadata": {},
   "outputs": [],
   "source": [
    "def plot(exp):\n",
    "    fig, axes = plt.subplots(nrows=1, ncols=2, figsize=(15,4))\n",
    "    axes[0].plot(exp.history['loss'])   \n",
    "    axes[0].plot(exp.history['val_loss'])\n",
    "    axes[0].legend(['loss','val_loss'])\n",
    "\n",
    "    axes[1].plot(exp.history['categorical_accuracy'])   \n",
    "    axes[1].plot(exp.history['val_categorical_accuracy'])\n",
    "    axes[1].legend(['categorical_accuracy','val_categorical_accuracy'])"
   ]
  },
  {
   "cell_type": "markdown",
   "metadata": {},
   "source": [
    "### Model 1 - taking frame size as 120*120 and #Epochs = 15\n",
    "Here you make the model using different functionalities that Keras provides. Remember to use `Conv3D` and `MaxPooling3D` and not `Conv2D` and `Maxpooling2D` for a 3D convolution model. You would want to use `TimeDistributed` while building a Conv2D + RNN model. Also remember that the last layer is the softmax. Design the network in such a way that the model is able to give good accuracy on the least number of parameters so that it can fit in the memory of the webcam."
   ]
  },
  {
   "cell_type": "code",
   "execution_count": 27,
   "metadata": {},
   "outputs": [],
   "source": [
    "from tensorflow.keras.models import Sequential\n",
    "from tensorflow.keras.layers import Dense, GRU, Dropout, Flatten, BatchNormalization, Activation, Conv3D, MaxPooling3D\n",
    "from tensorflow.keras.callbacks import ModelCheckpoint, ReduceLROnPlateau\n",
    "from tensorflow.keras import optimizers\n",
    "\n",
    "model = Sequential()\n",
    "\n",
    "model.add(Conv3D(32, kernel_size = (3,3,3),padding='same', input_shape=(30,120,120,3)))\n",
    "model.add(BatchNormalization())\n",
    "model.add(Activation(\"relu\"))\n",
    "model.add(MaxPooling3D(pool_size=(2, 2, 2)))\n",
    "\n",
    "model.add(Conv3D(64, kernel_size = (3,3,3),padding='same'))\n",
    "model.add(BatchNormalization())\n",
    "model.add(Activation(\"relu\"))\n",
    "model.add(MaxPooling3D(pool_size=(2, 2, 2)))\n",
    "\n",
    "model.add(Conv3D(128, kernel_size = (3,3,3),padding='same'))\n",
    "model.add(BatchNormalization())\n",
    "model.add(Activation(\"relu\"))\n",
    "model.add(MaxPooling3D(pool_size=(2, 2, 2)))\n",
    "model.add(Dropout(0.2))\n",
    "\n",
    "model.add(Flatten())\n",
    "\n",
    "model.add(Dense(1000, activation='relu'))\n",
    "model.add(Dropout(0.2))\n",
    "\n",
    "model.add(Dense(500, activation='relu'))\n",
    "model.add(Dropout(0.2))\n",
    "\n",
    "# 5 gestures 5 classes\n",
    "model.add(Dense(5, activation = 'softmax'))"
   ]
  },
  {
   "cell_type": "markdown",
   "metadata": {},
   "source": [
    "Now that you have written the model, the next step is to `compile` the model. When you print the `summary` of the model, you'll see the total number of parameters you have to train."
   ]
  },
  {
   "cell_type": "code",
   "execution_count": 28,
   "metadata": {
    "scrolled": true
   },
   "outputs": [
    {
     "name": "stdout",
     "output_type": "stream",
     "text": [
      "Model: \"sequential_4\"\n",
      "_________________________________________________________________\n",
      " Layer (type)                Output Shape              Param #   \n",
      "=================================================================\n",
      " conv3d_10 (Conv3D)          (None, 30, 120, 120, 32)  2624      \n",
      "                                                                 \n",
      " batch_normalization_10 (Bat  (None, 30, 120, 120, 32)  128      \n",
      " chNormalization)                                                \n",
      "                                                                 \n",
      " activation_11 (Activation)  (None, 30, 120, 120, 32)  0         \n",
      "                                                                 \n",
      " max_pooling3d_10 (MaxPoolin  (None, 15, 60, 60, 32)   0         \n",
      " g3D)                                                            \n",
      "                                                                 \n",
      " conv3d_11 (Conv3D)          (None, 15, 60, 60, 64)    55360     \n",
      "                                                                 \n",
      " batch_normalization_11 (Bat  (None, 15, 60, 60, 64)   256       \n",
      " chNormalization)                                                \n",
      "                                                                 \n",
      " activation_12 (Activation)  (None, 15, 60, 60, 64)    0         \n",
      "                                                                 \n",
      " max_pooling3d_11 (MaxPoolin  (None, 7, 30, 30, 64)    0         \n",
      " g3D)                                                            \n",
      "                                                                 \n",
      " conv3d_12 (Conv3D)          (None, 7, 30, 30, 128)    221312    \n",
      "                                                                 \n",
      " batch_normalization_12 (Bat  (None, 7, 30, 30, 128)   512       \n",
      " chNormalization)                                                \n",
      "                                                                 \n",
      " activation_13 (Activation)  (None, 7, 30, 30, 128)    0         \n",
      "                                                                 \n",
      " max_pooling3d_12 (MaxPoolin  (None, 3, 15, 15, 128)   0         \n",
      " g3D)                                                            \n",
      "                                                                 \n",
      " dropout_11 (Dropout)        (None, 3, 15, 15, 128)    0         \n",
      "                                                                 \n",
      " flatten_4 (Flatten)         (None, 86400)             0         \n",
      "                                                                 \n",
      " dense_11 (Dense)            (None, 1000)              86401000  \n",
      "                                                                 \n",
      " dropout_12 (Dropout)        (None, 1000)              0         \n",
      "                                                                 \n",
      " dense_12 (Dense)            (None, 500)               500500    \n",
      "                                                                 \n",
      " dropout_13 (Dropout)        (None, 500)               0         \n",
      "                                                                 \n",
      " dense_13 (Dense)            (None, 5)                 2505      \n",
      "                                                                 \n",
      "=================================================================\n",
      "Total params: 87,184,197\n",
      "Trainable params: 87,183,749\n",
      "Non-trainable params: 448\n",
      "_________________________________________________________________\n",
      "None\n"
     ]
    }
   ],
   "source": [
    "#Having learning rate as 0.01\n",
    "optimiser = optimizers.Adam(lr = 0.01)#write your optimizer\n",
    "model.compile(optimizer=optimiser, loss='categorical_crossentropy', metrics=['categorical_accuracy'])\n",
    "print (model.summary())"
   ]
  },
  {
   "cell_type": "markdown",
   "metadata": {},
   "source": [
    "Let us create the `train_generator` and the `val_generator` which will be used in `.fit_generator`."
   ]
  },
  {
   "cell_type": "code",
   "execution_count": 9,
   "metadata": {},
   "outputs": [],
   "source": [
    "frames_to_sample = 30\n",
    "frame_size = 120\n",
    "\n",
    "train_generator = generator(frames_to_sample,frame_size,train_path, train_doc, batch_size)\n",
    "val_generator = generator(frames_to_sample,frame_size, val_path, val_doc, batch_size)"
   ]
  },
  {
   "cell_type": "code",
   "execution_count": 11,
   "metadata": {},
   "outputs": [],
   "source": [
    "model_name = 'model_init' + '_' + str(curr_dt_time).replace(' ','').replace(':','_') + '/'\n",
    "    \n",
    "if not os.path.exists(model_name):\n",
    "    os.mkdir(model_name)\n",
    "        \n",
    "filepath = model_name + 'model-{epoch:05d}-{loss:.5f}-{categorical_accuracy:.5f}-{val_loss:.5f}-{val_categorical_accuracy:.5f}.h5'\n",
    "\n",
    "checkpoint = ModelCheckpoint(filepath, monitor='val_loss', verbose=1, save_best_only=True, save_weights_only=False, mode='auto',save_freq = \"epoch\")\n",
    "\n",
    "LR = ReduceLROnPlateau(monitor='val_loss', factor=0.5, patience=2, cooldown=1, verbose=1)# write the REducelronplateau code here\n",
    "callbacks_list = [checkpoint, LR]"
   ]
  },
  {
   "cell_type": "markdown",
   "metadata": {},
   "source": [
    "The `steps_per_epoch` and `validation_steps` are used by `fit` method to decide the number of next() calls it need to make."
   ]
  },
  {
   "cell_type": "code",
   "execution_count": 12,
   "metadata": {},
   "outputs": [],
   "source": [
    "if (num_train_sequences%batch_size) == 0:\n",
    "    steps_per_epoch = int(num_train_sequences/batch_size)\n",
    "else:\n",
    "    steps_per_epoch = (num_train_sequences//batch_size) + 1\n",
    "\n",
    "if (num_val_sequences%batch_size) == 0:\n",
    "    validation_steps = int(num_val_sequences/batch_size)\n",
    "else:\n",
    "    validation_steps = (num_val_sequences//batch_size) + 1"
   ]
  },
  {
   "cell_type": "markdown",
   "metadata": {},
   "source": [
    "Let us now fit the model. This will start training the model and with the help of the checkpoints, you'll be able to save the model at the end of each epoch."
   ]
  },
  {
   "cell_type": "code",
   "execution_count": 13,
   "metadata": {},
   "outputs": [
    {
     "name": "stdout",
     "output_type": "stream",
     "text": [
      "Source path =  /home/datasets/Project_data/train ; batch size = 30\n",
      "Epoch 1/15\n"
     ]
    },
    {
     "name": "stderr",
     "output_type": "stream",
     "text": [
      "2022-11-20 15:58:27.346570: I tensorflow/stream_executor/cuda/cuda_dnn.cc:377] Loaded cuDNN version 8302\n"
     ]
    },
    {
     "name": "stdout",
     "output_type": "stream",
     "text": [
      "21/23 [==========================>...] - ETA: 14s - loss: 688.9329 - categorical_accuracy: 0.2651Batch:  23 Index: 30\n",
      "23/23 [==============================] - ETA: 0s - loss: 654.7301 - categorical_accuracy: 0.2640Source path =  /home/datasets/Project_data/val ; batch size = 30\n",
      "Batch:  4 Index: 30\n",
      "\n",
      "Epoch 00001: val_loss improved from inf to 211.05571, saving model to model_init_2022-11-2015_57_52.945235/model-00001-654.73010-0.26395-211.05571-0.20000.h5\n",
      "23/23 [==============================] - 201s 9s/step - loss: 654.7301 - categorical_accuracy: 0.2640 - val_loss: 211.0557 - val_categorical_accuracy: 0.2000 - lr: 0.0100\n",
      "Epoch 2/15\n",
      "23/23 [==============================] - ETA: 0s - loss: 4.0365 - categorical_accuracy: 0.2899\n",
      "Epoch 00002: val_loss improved from 211.05571 to 19.67479, saving model to model_init_2022-11-2015_57_52.945235/model-00002-4.03647-0.28986-19.67479-0.20000.h5\n",
      "23/23 [==============================] - 35s 2s/step - loss: 4.0365 - categorical_accuracy: 0.2899 - val_loss: 19.6748 - val_categorical_accuracy: 0.2000 - lr: 0.0100\n",
      "Epoch 3/15\n",
      "23/23 [==============================] - ETA: 0s - loss: 1.7611 - categorical_accuracy: 0.3043\n",
      "Epoch 00003: val_loss improved from 19.67479 to 6.02579, saving model to model_init_2022-11-2015_57_52.945235/model-00003-1.76111-0.30435-6.02579-0.25000.h5\n",
      "23/23 [==============================] - 30s 1s/step - loss: 1.7611 - categorical_accuracy: 0.3043 - val_loss: 6.0258 - val_categorical_accuracy: 0.2500 - lr: 0.0100\n",
      "Epoch 4/15\n",
      "23/23 [==============================] - ETA: 0s - loss: 1.6616 - categorical_accuracy: 0.2319\n",
      "Epoch 00004: val_loss did not improve from 6.02579\n",
      "23/23 [==============================] - 32s 1s/step - loss: 1.6616 - categorical_accuracy: 0.2319 - val_loss: 7.9567 - val_categorical_accuracy: 0.1500 - lr: 0.0100\n",
      "Epoch 5/15\n",
      "23/23 [==============================] - ETA: 0s - loss: 1.6350 - categorical_accuracy: 0.1739\n",
      "Epoch 00005: val_loss improved from 6.02579 to 2.10326, saving model to model_init_2022-11-2015_57_52.945235/model-00005-1.63503-0.17391-2.10326-0.15000.h5\n",
      "23/23 [==============================] - 34s 2s/step - loss: 1.6350 - categorical_accuracy: 0.1739 - val_loss: 2.1033 - val_categorical_accuracy: 0.1500 - lr: 0.0100\n",
      "Epoch 6/15\n",
      "23/23 [==============================] - ETA: 0s - loss: 1.6192 - categorical_accuracy: 0.2029\n",
      "Epoch 00006: val_loss did not improve from 2.10326\n",
      "23/23 [==============================] - 30s 1s/step - loss: 1.6192 - categorical_accuracy: 0.2029 - val_loss: 2.7708 - val_categorical_accuracy: 0.1500 - lr: 0.0100\n",
      "Epoch 7/15\n",
      "23/23 [==============================] - ETA: 0s - loss: 1.6297 - categorical_accuracy: 0.1304\n",
      "Epoch 00007: val_loss improved from 2.10326 to 1.69209, saving model to model_init_2022-11-2015_57_52.945235/model-00007-1.62971-0.13043-1.69209-0.15000.h5\n",
      "23/23 [==============================] - 38s 2s/step - loss: 1.6297 - categorical_accuracy: 0.1304 - val_loss: 1.6921 - val_categorical_accuracy: 0.1500 - lr: 0.0100\n",
      "Epoch 8/15\n",
      "17/23 [=====================>........] - ETA: 5s - loss: 1.6189 - categorical_accuracy: 0.1961\n",
      "Epoch 00008: val_loss did not improve from 1.69209\n",
      "23/23 [==============================] - 31s 1s/step - loss: 1.6171 - categorical_accuracy: 0.2029 - val_loss: 1.7850 - val_categorical_accuracy: 0.1750 - lr: 0.0100\n",
      "Epoch 9/15\n",
      "23/23 [==============================] - ETA: 0s - loss: 1.6054 - categorical_accuracy: 0.2174\n",
      "Epoch 00009: val_loss improved from 1.69209 to 1.60557, saving model to model_init_2022-11-2015_57_52.945235/model-00009-1.60539-0.21739-1.60557-0.15000.h5\n",
      "23/23 [==============================] - 36s 2s/step - loss: 1.6054 - categorical_accuracy: 0.2174 - val_loss: 1.6056 - val_categorical_accuracy: 0.1500 - lr: 0.0100\n",
      "Epoch 10/15\n",
      "23/23 [==============================] - ETA: 0s - loss: 1.6086 - categorical_accuracy: 0.2029\n",
      "Epoch 00012: val_loss did not improve from 1.60557\n",
      "23/23 [==============================] - 30s 1s/step - loss: 1.6086 - categorical_accuracy: 0.2029 - val_loss: 1.6068 - val_categorical_accuracy: 0.2500 - lr: 0.0050\n",
      "Epoch 13/15\n",
      "23/23 [==============================] - ETA: 0s - loss: 1.6172 - categorical_accuracy: 0.1739\n",
      "Epoch 00013: val_loss improved from 1.60557 to 1.60505, saving model to model_init_2022-11-2015_57_52.945235/model-00013-1.61717-0.17391-1.60505-0.27500.h5\n",
      "23/23 [==============================] - 38s 2s/step - loss: 1.6172 - categorical_accuracy: 0.1739 - val_loss: 1.6050 - val_categorical_accuracy: 0.2750 - lr: 0.0050\n",
      "Epoch 14/15\n",
      "23/23 [==============================] - ETA: 0s - loss: 1.6099 - categorical_accuracy: 0.2174\n",
      "Epoch 00014: val_loss did not improve from 1.60505\n",
      "23/23 [==============================] - 34s 2s/step - loss: 1.6099 - categorical_accuracy: 0.2174 - val_loss: 1.6082 - val_categorical_accuracy: 0.2000 - lr: 0.0050\n",
      "Epoch 15/15\n",
      "23/23 [==============================] - ETA: 0s - loss: 1.6096 - categorical_accuracy: 0.2464\n",
      "Epoch 00015: val_loss did not improve from 1.60505\n",
      "\n",
      "Epoch 00015: ReduceLROnPlateau reducing learning rate to 0.0024999999441206455.\n",
      "23/23 [==============================] - 32s 1s/step - loss: 1.6096 - categorical_accuracy: 0.2464 - val_loss: 1.6068 - val_categorical_accuracy: 0.2250 - lr: 0.0050\n"
     ]
    }
   ],
   "source": [
    "exp= model.fit(train_generator, steps_per_epoch=steps_per_epoch, epochs=num_epochs, verbose=1, \n",
    "                    callbacks=callbacks_list, validation_data=val_generator, \n",
    "                    validation_steps=validation_steps, class_weight=None, workers=1, initial_epoch=0)"
   ]
  },
  {
   "cell_type": "code",
   "execution_count": 18,
   "metadata": {},
   "outputs": [
    {
     "data": {
      "image/png": "[encoded data removed]",
      "text/plain": [
       "<Figure size 1080x288 with 2 Axes>"
      ]
     },
     "metadata": {
      "needs_background": "light"
     },
     "output_type": "display_data"
    }
   ],
   "source": [
    "plot(exp)"
   ]
  },
  {
   "cell_type": "markdown",
   "metadata": {},
   "source": [
    "* Loss stabilisises after 3 epochs\n",
    "* Very low accuracy in both train & val\n"
   ]
  },
  {
   "cell_type": "markdown",
   "metadata": {},
   "source": [
    "### Model 2 \n",
    "**Architecture can be changed - Adding 1 more convolution and decreasing the Learning rate**"
   ]
  },
  {
   "cell_type": "code",
   "execution_count": 35,
   "metadata": {},
   "outputs": [],
   "source": [
    "#Architecture\n",
    "\n",
    "model2 = Sequential()\n",
    "\n",
    "model2.add(Conv3D(8, kernel_size = (3,3,3),padding='same', input_shape=(30,120,120,3)))\n",
    "model2.add(BatchNormalization())\n",
    "model2.add(Activation(\"relu\"))\n",
    "model2.add(MaxPooling3D(pool_size=(1, 2, 2)))\n",
    "\n",
    "model2.add(Conv3D(16, kernel_size = (3,3,3),padding='same'))\n",
    "model2.add(BatchNormalization())\n",
    "model2.add(Activation(\"relu\"))\n",
    "model2.add(MaxPooling3D(pool_size=(2, 2, 2)))\n",
    "\n",
    "model2.add(Conv3D(32, kernel_size = (3,3,3),padding='same'))\n",
    "model2.add(BatchNormalization())\n",
    "model2.add(Activation(\"relu\"))\n",
    "model2.add(MaxPooling3D(pool_size=(2, 2, 2)))\n",
    "\n",
    "model2.add(Conv3D(64, kernel_size = (3,3,3),padding='same'))\n",
    "model2.add(BatchNormalization())\n",
    "model2.add(Activation(\"relu\"))\n",
    "model2.add(MaxPooling3D(pool_size=(2, 2, 2)))\n",
    "model2.add(Dropout(0.3))\n",
    "\n",
    "model2.add(Conv3D(128, kernel_size = (3,3,3),padding='same'))\n",
    "model2.add(BatchNormalization())\n",
    "model2.add(Activation(\"relu\"))\n",
    "model2.add(MaxPooling3D(pool_size=(2, 2, 2)))\n",
    "model2.add(Dropout(0.3))\n",
    "\n",
    "model2.add(Flatten())\n",
    "\n",
    "model2.add(Dense(256, activation='relu'))\n",
    "model2.add(Dropout(0.3))\n",
    "\n",
    "# 5 gestures 5 classes\n",
    "model2.add(Dense(5, activation = 'softmax'))"
   ]
  },
  {
   "cell_type": "code",
   "execution_count": 52,
   "metadata": {},
   "outputs": [],
   "source": [
    "#Defining params batch size frame size\n",
    "#trying the base model with frame size 120*120 & total 30 frames\n",
    "frame_size = 120\n",
    "frames_to_sample = 30 \n",
    "train_generator = generator(frames_to_sample,frame_size,train_path, train_doc, batch_size)\n",
    "val_generator = generator(frames_to_sample,frame_size,val_path, val_doc, batch_size)"
   ]
  },
  {
   "cell_type": "code",
   "execution_count": 53,
   "metadata": {},
   "outputs": [],
   "source": [
    "model_name = 'model_init' + '_' + str(curr_dt_time).replace(' ','').replace(':','_') + '/'\n",
    "    \n",
    "if not os.path.exists(model_name):\n",
    "    os.mkdir(model_name)\n",
    "        \n",
    "filepath = model_name + 'model-{epoch:05d}-{loss:.5f}-{categorical_accuracy:.5f}-{val_loss:.5f}-{val_categorical_accuracy:.5f}.h5'\n",
    "\n",
    "checkpoint = ModelCheckpoint(filepath, monitor='val_loss', verbose=1, save_best_only=True, save_weights_only=False, mode='auto', save_freq=\"epoch\")\n",
    "\n",
    "LR = ReduceLROnPlateau(monitor='val_loss', factor=0.5, patience=2, cooldown=1, verbose=1)# write the REducelronplateau code here\n",
    "callbacks_list = [checkpoint, LR]"
   ]
  },
  {
   "cell_type": "code",
   "execution_count": 54,
   "metadata": {},
   "outputs": [],
   "source": [
    "#Steps per epoch\n",
    "\n",
    "if (num_train_sequences%batch_size) == 0:\n",
    "    steps_per_epoch = int(num_train_sequences/batch_size)\n",
    "else:\n",
    "    steps_per_epoch = (num_train_sequences//batch_size) + 1\n",
    "\n",
    "if (num_val_sequences%batch_size) == 0:\n",
    "    validation_steps = int(num_val_sequences/batch_size)\n",
    "else:\n",
    "    validation_steps = (num_val_sequences//batch_size) + 1"
   ]
  },
  {
   "cell_type": "code",
   "execution_count": 55,
   "metadata": {},
   "outputs": [
    {
     "name": "stdout",
     "output_type": "stream",
     "text": [
      "Model: \"sequential_3\"\n",
      "_________________________________________________________________\n",
      " Layer (type)                Output Shape              Param #   \n",
      "=================================================================\n",
      " conv3d_12 (Conv3D)          (None, 30, 120, 120, 8)   656       \n",
      "                                                                 \n",
      " batch_normalization_12 (Bat  (None, 30, 120, 120, 8)  32        \n",
      " chNormalization)                                                \n",
      "                                                                 \n",
      " activation_12 (Activation)  (None, 30, 120, 120, 8)   0         \n",
      "                                                                 \n",
      " max_pooling3d_12 (MaxPoolin  (None, 30, 60, 60, 8)    0         \n",
      " g3D)                                                            \n",
      "                                                                 \n",
      " conv3d_13 (Conv3D)          (None, 30, 60, 60, 16)    3472      \n",
      "                                                                 \n",
      " batch_normalization_13 (Bat  (None, 30, 60, 60, 16)   64        \n",
      " chNormalization)                                                \n",
      "                                                                 \n",
      " activation_13 (Activation)  (None, 30, 60, 60, 16)    0         \n",
      "                                                                 \n",
      " max_pooling3d_13 (MaxPoolin  (None, 15, 30, 30, 16)   0         \n",
      " g3D)                                                            \n",
      "                                                                 \n",
      " conv3d_14 (Conv3D)          (None, 15, 30, 30, 32)    13856     \n",
      "                                                                 \n",
      " batch_normalization_14 (Bat  (None, 15, 30, 30, 32)   128       \n",
      " chNormalization)                                                \n",
      "                                                                 \n",
      " activation_14 (Activation)  (None, 15, 30, 30, 32)    0         \n",
      "                                                                 \n",
      " max_pooling3d_14 (MaxPoolin  (None, 7, 15, 15, 32)    0         \n",
      " g3D)                                                            \n",
      "                                                                 \n",
      " conv3d_15 (Conv3D)          (None, 7, 15, 15, 64)     55360     \n",
      "                                                                 \n",
      " batch_normalization_15 (Bat  (None, 7, 15, 15, 64)    256       \n",
      " chNormalization)                                                \n",
      "                                                                 \n",
      " activation_15 (Activation)  (None, 7, 15, 15, 64)     0         \n",
      "                                                                 \n",
      " max_pooling3d_15 (MaxPoolin  (None, 3, 7, 7, 64)      0         \n",
      " g3D)                                                            \n",
      "                                                                 \n",
      " dropout_8 (Dropout)         (None, 3, 7, 7, 64)       0         \n",
      "                                                                 \n",
      " conv3d_16 (Conv3D)          (None, 3, 7, 7, 128)      221312    \n",
      "                                                                 \n",
      " batch_normalization_16 (Bat  (None, 3, 7, 7, 128)     512       \n",
      " chNormalization)                                                \n",
      "                                                                 \n",
      " activation_16 (Activation)  (None, 3, 7, 7, 128)      0         \n",
      "                                                                 \n",
      " max_pooling3d_16 (MaxPoolin  (None, 1, 3, 3, 128)     0         \n",
      " g3D)                                                            \n",
      "                                                                 \n",
      " dropout_9 (Dropout)         (None, 1, 3, 3, 128)      0         \n",
      "                                                                 \n",
      " flatten_3 (Flatten)         (None, 1152)              0         \n",
      "                                                                 \n",
      " dense_7 (Dense)             (None, 256)               295168    \n",
      "                                                                 \n",
      " dropout_10 (Dropout)        (None, 256)               0         \n",
      "                                                                 \n",
      " dense_8 (Dense)             (None, 5)                 1285      \n",
      "                                                                 \n",
      "=================================================================\n",
      "Total params: 592,101\n",
      "Trainable params: 591,605\n",
      "Non-trainable params: 496\n",
      "_________________________________________________________________\n",
      "None\n"
     ]
    }
   ],
   "source": [
    "optimiser = optimizers.Adam(lr = 0.001) #write your optimizer\n",
    "model2.compile(optimizer=optimiser, loss='categorical_crossentropy', metrics=['categorical_accuracy'])\n",
    "print (model2.summary())"
   ]
  },
  {
   "cell_type": "code",
   "execution_count": 56,
   "metadata": {},
   "outputs": [
    {
     "name": "stdout",
     "output_type": "stream",
     "text": [
      "Total Params: 592101\n",
      "Source path =  /home/datasets/Project_data/train ; batch size = 30\n",
      "Epoch 1/15\n",
      "21/23 [==========================>...] - ETA: 20s - loss: 2.4174 - categorical_accuracy: 0.3016Batch:  23 Index: 30\n",
      "23/23 [==============================] - ETA: 0s - loss: 2.3673 - categorical_accuracy: 0.3047 Source path =  /home/datasets/Project_data/val ; batch size = 30\n",
      "Batch:  4 Index: 30\n",
      "\n",
      "Epoch 00001: val_loss improved from inf to 1.43147, saving model to model_init_2022-11-2016_28_42.043591/model-00001-2.36731-0.30468-1.43147-0.39000.h5\n",
      "23/23 [==============================] - 275s 12s/step - loss: 2.3673 - categorical_accuracy: 0.3047 - val_loss: 1.4315 - val_categorical_accuracy: 0.3900 - lr: 0.0010\n",
      "Epoch 2/15\n",
      "23/23 [==============================] - ETA: 0s - loss: 1.6824 - categorical_accuracy: 0.3478\n",
      "Epoch 00002: val_loss did not improve from 1.43147\n",
      "23/23 [==============================] - 41s 2s/step - loss: 1.6824 - categorical_accuracy: 0.3478 - val_loss: 2.0608 - val_categorical_accuracy: 0.1500 - lr: 0.0010\n",
      "Epoch 3/15\n",
      "23/23 [==============================] - ETA: 0s - loss: 1.5967 - categorical_accuracy: 0.4493\n",
      "Epoch 00003: val_loss did not improve from 1.43147\n",
      "\n",
      "Epoch 00003: ReduceLROnPlateau reducing learning rate to 0.0005000000237487257.\n",
      "23/23 [==============================] - 35s 2s/step - loss: 1.5967 - categorical_accuracy: 0.4493 - val_loss: 2.0116 - val_categorical_accuracy: 0.2250 - lr: 0.0010\n",
      "Epoch 4/15\n",
      "23/23 [==============================] - ETA: 0s - loss: 1.5900 - categorical_accuracy: 0.3768\n",
      "Epoch 00004: val_loss did not improve from 1.43147\n",
      "23/23 [==============================] - 40s 2s/step - loss: 1.5900 - categorical_accuracy: 0.3768 - val_loss: 1.8669 - val_categorical_accuracy: 0.1750 - lr: 5.0000e-04\n",
      "Epoch 5/15\n",
      "23/23 [==============================] - ETA: 0s - loss: 1.3371 - categorical_accuracy: 0.4203\n",
      "Epoch 00005: val_loss did not improve from 1.43147\n",
      "\n",
      "Epoch 00005: ReduceLROnPlateau reducing learning rate to 0.0002500000118743628.\n",
      "23/23 [==============================] - 36s 2s/step - loss: 1.3371 - categorical_accuracy: 0.4203 - val_loss: 3.0178 - val_categorical_accuracy: 0.1000 - lr: 5.0000e-04\n",
      "Epoch 6/15\n",
      "23/23 [==============================] - ETA: 0s - loss: 1.2628 - categorical_accuracy: 0.4203\n",
      "Epoch 00006: val_loss did not improve from 1.43147\n",
      "23/23 [==============================] - 29s 1s/step - loss: 1.2628 - categorical_accuracy: 0.4203 - val_loss: 2.2217 - val_categorical_accuracy: 0.2500 - lr: 2.5000e-04\n",
      "Epoch 7/15\n",
      "23/23 [==============================] - ETA: 0s - loss: 1.2934 - categorical_accuracy: 0.4203\n",
      "Epoch 00007: val_loss did not improve from 1.43147\n",
      "\n",
      "Epoch 00007: ReduceLROnPlateau reducing learning rate to 0.0001250000059371814.\n",
      "23/23 [==============================] - 34s 2s/step - loss: 1.2934 - categorical_accuracy: 0.4203 - val_loss: 2.3728 - val_categorical_accuracy: 0.1500 - lr: 2.5000e-04\n",
      "Epoch 8/15\n",
      "23/23 [==============================] - ETA: 0s - loss: 1.0415 - categorical_accuracy: 0.5217\n",
      "Epoch 00008: val_loss did not improve from 1.43147\n",
      "23/23 [==============================] - 33s 2s/step - loss: 1.0415 - categorical_accuracy: 0.5217 - val_loss: 2.4644 - val_categorical_accuracy: 0.1500 - lr: 1.2500e-04\n",
      "Epoch 9/15\n",
      "23/23 [==============================] - ETA: 0s - loss: 1.0863 - categorical_accuracy: 0.5652\n",
      "Epoch 00009: val_loss did not improve from 1.43147\n",
      "\n",
      "Epoch 00009: ReduceLROnPlateau reducing learning rate to 6.25000029685907e-05.\n",
      "23/23 [==============================] - 32s 1s/step - loss: 1.0863 - categorical_accuracy: 0.5652 - val_loss: 2.1177 - val_categorical_accuracy: 0.2250 - lr: 1.2500e-04\n",
      "Epoch 10/15\n",
      "23/23 [==============================] - ETA: 0s - loss: 0.9811 - categorical_accuracy: 0.5507\n",
      "Epoch 00010: val_loss did not improve from 1.43147\n",
      "23/23 [==============================] - 35s 2s/step - loss: 0.9811 - categorical_accuracy: 0.5507 - val_loss: 2.0195 - val_categorical_accuracy: 0.2750 - lr: 6.2500e-05\n",
      "Epoch 11/15\n",
      "23/23 [==============================] - ETA: 0s - loss: 0.9621 - categorical_accuracy: 0.6377\n",
      "Epoch 00011: val_loss did not improve from 1.43147\n",
      "\n",
      "Epoch 00011: ReduceLROnPlateau reducing learning rate to 3.125000148429535e-05.\n",
      "23/23 [==============================] - 36s 2s/step - loss: 0.9621 - categorical_accuracy: 0.6377 - val_loss: 2.5877 - val_categorical_accuracy: 0.2000 - lr: 6.2500e-05\n",
      "Epoch 12/15\n",
      "23/23 [==============================] - ETA: 0s - loss: 1.0430 - categorical_accuracy: 0.6087\n",
      "Epoch 00012: val_loss did not improve from 1.43147\n",
      "23/23 [==============================] - 29s 1s/step - loss: 1.0430 - categorical_accuracy: 0.6087 - val_loss: 2.1171 - val_categorical_accuracy: 0.2750 - lr: 3.1250e-05\n",
      "Epoch 13/15\n",
      "23/23 [==============================] - ETA: 0s - loss: 0.9956 - categorical_accuracy: 0.5797\n",
      "Epoch 00013: val_loss did not improve from 1.43147\n",
      "\n",
      "Epoch 00013: ReduceLROnPlateau reducing learning rate to 1.5625000742147677e-05.\n",
      "23/23 [==============================] - 33s 1s/step - loss: 0.9956 - categorical_accuracy: 0.5797 - val_loss: 2.0259 - val_categorical_accuracy: 0.2250 - lr: 3.1250e-05\n",
      "Epoch 14/15\n",
      "23/23 [==============================] - ETA: 0s - loss: 0.8578 - categorical_accuracy: 0.6812\n",
      "Epoch 00014: val_loss did not improve from 1.43147\n",
      "23/23 [==============================] - 32s 1s/step - loss: 0.8578 - categorical_accuracy: 0.6812 - val_loss: 1.6569 - val_categorical_accuracy: 0.3250 - lr: 1.5625e-05\n",
      "Epoch 15/15\n",
      "23/23 [==============================] - ETA: 0s - loss: 0.9701 - categorical_accuracy: 0.6087\n",
      "Epoch 00015: val_loss did not improve from 1.43147\n",
      "\n",
      "Epoch 00015: ReduceLROnPlateau reducing learning rate to 7.812500371073838e-06.\n",
      "23/23 [==============================] - 34s 2s/step - loss: 0.9701 - categorical_accuracy: 0.6087 - val_loss: 1.7187 - val_categorical_accuracy: 0.2750 - lr: 1.5625e-05\n"
     ]
    }
   ],
   "source": [
    "#Model fit \n",
    "print(\"Total Params:\", model2.count_params())\n",
    "exp2 = model2.fit(train_generator, steps_per_epoch=steps_per_epoch, epochs=num_epochs, verbose=1, \n",
    "                    callbacks=callbacks_list, validation_data=val_generator, \n",
    "                    validation_steps=validation_steps, class_weight=None, workers=1, initial_epoch=0)"
   ]
  },
  {
   "cell_type": "code",
   "execution_count": 57,
   "metadata": {},
   "outputs": [
    {
     "data": {
      "image/png": "[encoded data removed]",
      "text/plain": [
       "<Figure size 1080x288 with 2 Axes>"
      ]
     },
     "metadata": {
      "needs_background": "light"
     },
     "output_type": "display_data"
    }
   ],
   "source": [
    "plot(exp2)"
   ]
  },
  {
   "cell_type": "markdown",
   "metadata": {},
   "source": [
    "* By adding more layers we do see the tarining accuracy improved significantly\n",
    "* Validation accuracy is low , clearly we have the model overfitting(may be we can increase the batch size)\n",
    "* Losses doesn't stablize in 15 epochs maybe we can add more\n"
   ]
  },
  {
   "cell_type": "markdown",
   "metadata": {},
   "source": [
    "### Model 3 \n",
    "**Changing #Epochs to 20 and #batch size to 10**"
   ]
  },
  {
   "cell_type": "code",
   "execution_count": 58,
   "metadata": {},
   "outputs": [],
   "source": [
    "\n",
    "model3 = Sequential()\n",
    "\n",
    "model3.add(Conv3D(32, kernel_size = (3,3,3),padding='same', input_shape=(30,160,160,3)))\n",
    "model3.add(BatchNormalization())\n",
    "model3.add(Activation(\"relu\"))\n",
    "model3.add(MaxPooling3D(pool_size=(2, 2, 2)))\n",
    "\n",
    "model3.add(Conv3D(64, kernel_size = (3,3,3),padding='same'))\n",
    "model3.add(BatchNormalization())\n",
    "model3.add(Activation(\"relu\"))\n",
    "model3.add(MaxPooling3D(pool_size=(2, 2, 2)))\n",
    "\n",
    "model3.add(Conv3D(128, kernel_size = (3,3,3),padding='same'))\n",
    "model3.add(BatchNormalization())\n",
    "model3.add(Activation(\"relu\"))\n",
    "model3.add(MaxPooling3D(pool_size=(2, 2, 2)))\n",
    "model3.add(Dropout(0.2))\n",
    "\n",
    "model3.add(Conv3D(256, kernel_size = (3,3,3),padding='same'))\n",
    "model3.add(BatchNormalization())\n",
    "model3.add(Activation(\"relu\"))\n",
    "model3.add(MaxPooling3D(pool_size=(2, 2, 2)))\n",
    "model3.add(Dropout(0.2))\n",
    "\n",
    "model3.add(Flatten())\n",
    "\n",
    "model3.add(Dense(1000, activation='relu'))\n",
    "model3.add(Dropout(0.2))\n",
    "\n",
    "model3.add(Dense(500, activation='relu'))\n",
    "model3.add(Dropout(0.2))\n",
    "\n",
    "# 5 gestures 5 classes\n",
    "model3.add(Dense(5, activation = 'softmax'))"
   ]
  },
  {
   "cell_type": "code",
   "execution_count": 59,
   "metadata": {},
   "outputs": [],
   "source": [
    "#Defining params batch size frame size\n",
    "#trying the base model with frame size 120*120 & total 30 frames\n",
    "frame_size = 160\n",
    "frames_to_sample = 30 \n",
    "batch_size = 10\n",
    "train_generator = generator(frames_to_sample,frame_size,train_path, train_doc, batch_size)\n",
    "val_generator = generator(frames_to_sample,frame_size,val_path, val_doc, batch_size)"
   ]
  },
  {
   "cell_type": "code",
   "execution_count": 60,
   "metadata": {},
   "outputs": [],
   "source": [
    "model_name = 'model_init' + '_' + str(curr_dt_time).replace(' ','').replace(':','_') + '/'\n",
    "    \n",
    "if not os.path.exists(model_name):\n",
    "    os.mkdir(model_name)\n",
    "        \n",
    "filepath = model_name + 'model-{epoch:05d}-{loss:.5f}-{categorical_accuracy:.5f}-{val_loss:.5f}-{val_categorical_accuracy:.5f}.h5'\n",
    "\n",
    "checkpoint = ModelCheckpoint(filepath, monitor='val_loss', verbose=1, save_best_only=True, save_weights_only=False, mode='auto', save_freq=\"epoch\")\n",
    "\n",
    "LR = ReduceLROnPlateau(monitor='val_loss', factor=0.5, patience=2, cooldown=1, verbose=1)# write the REducelronplateau code here\n",
    "callbacks_list = [checkpoint, LR]"
   ]
  },
  {
   "cell_type": "code",
   "execution_count": 61,
   "metadata": {},
   "outputs": [],
   "source": [
    "#Steps per epoch\n",
    "\n",
    "if (num_train_sequences%batch_size) == 0:\n",
    "    steps_per_epoch = int(num_train_sequences/batch_size)\n",
    "else:\n",
    "    steps_per_epoch = (num_train_sequences//batch_size) + 1\n",
    "\n",
    "if (num_val_sequences%batch_size) == 0:\n",
    "    validation_steps = int(num_val_sequences/batch_size)\n",
    "else:\n",
    "    validation_steps = (num_val_sequences//batch_size) + 1"
   ]
  },
  {
   "cell_type": "code",
   "execution_count": 62,
   "metadata": {},
   "outputs": [
    {
     "name": "stdout",
     "output_type": "stream",
     "text": [
      "Model: \"sequential_6\"\n",
      "_________________________________________________________________\n",
      " Layer (type)                Output Shape              Param #   \n",
      "=================================================================\n",
      " conv3d_24 (Conv3D)          (None, 30, 160, 160, 32)  2624      \n",
      "                                                                 \n",
      " batch_normalization_24 (Bat  (None, 30, 160, 160, 32)  128      \n",
      " chNormalization)                                                \n",
      "                                                                 \n",
      " activation_24 (Activation)  (None, 30, 160, 160, 32)  0         \n",
      "                                                                 \n",
      " max_pooling3d_24 (MaxPoolin  (None, 15, 80, 80, 32)   0         \n",
      " g3D)                                                            \n",
      "                                                                 \n",
      " conv3d_25 (Conv3D)          (None, 15, 80, 80, 64)    55360     \n",
      "                                                                 \n",
      " batch_normalization_25 (Bat  (None, 15, 80, 80, 64)   256       \n",
      " chNormalization)                                                \n",
      "                                                                 \n",
      " activation_25 (Activation)  (None, 15, 80, 80, 64)    0         \n",
      "                                                                 \n",
      " max_pooling3d_25 (MaxPoolin  (None, 7, 40, 40, 64)    0         \n",
      " g3D)                                                            \n",
      "                                                                 \n",
      " conv3d_26 (Conv3D)          (None, 7, 40, 40, 128)    221312    \n",
      "                                                                 \n",
      " batch_normalization_26 (Bat  (None, 7, 40, 40, 128)   512       \n",
      " chNormalization)                                                \n",
      "                                                                 \n",
      " activation_26 (Activation)  (None, 7, 40, 40, 128)    0         \n",
      "                                                                 \n",
      " max_pooling3d_26 (MaxPoolin  (None, 3, 20, 20, 128)   0         \n",
      " g3D)                                                            \n",
      "                                                                 \n",
      " dropout_18 (Dropout)        (None, 3, 20, 20, 128)    0         \n",
      "                                                                 \n",
      " conv3d_27 (Conv3D)          (None, 3, 20, 20, 256)    884992    \n",
      "                                                                 \n",
      " batch_normalization_27 (Bat  (None, 3, 20, 20, 256)   1024      \n",
      " chNormalization)                                                \n",
      "                                                                 \n",
      " activation_27 (Activation)  (None, 3, 20, 20, 256)    0         \n",
      "                                                                 \n",
      " max_pooling3d_27 (MaxPoolin  (None, 1, 10, 10, 256)   0         \n",
      " g3D)                                                            \n",
      "                                                                 \n",
      " dropout_19 (Dropout)        (None, 1, 10, 10, 256)    0         \n",
      "                                                                 \n",
      " flatten_6 (Flatten)         (None, 25600)             0         \n",
      "                                                                 \n",
      " dense_15 (Dense)            (None, 1000)              25601000  \n",
      "                                                                 \n",
      " dropout_20 (Dropout)        (None, 1000)              0         \n",
      "                                                                 \n",
      " dense_16 (Dense)            (None, 500)               500500    \n",
      "                                                                 \n",
      " dropout_21 (Dropout)        (None, 500)               0         \n",
      "                                                                 \n",
      " dense_17 (Dense)            (None, 5)                 2505      \n",
      "                                                                 \n",
      "=================================================================\n",
      "Total params: 27,270,213\n",
      "Trainable params: 27,269,253\n",
      "Non-trainable params: 960\n",
      "_________________________________________________________________\n",
      "None\n"
     ]
    }
   ],
   "source": [
    "optimiser = optimizers.Adam(lr = 0.001) #write your optimizer\n",
    "model3.compile(optimizer=optimiser, loss='categorical_crossentropy', metrics=['categorical_accuracy'])\n",
    "print (model3.summary())"
   ]
  },
  {
   "cell_type": "code",
   "execution_count": 63,
   "metadata": {},
   "outputs": [
    {
     "name": "stdout",
     "output_type": "stream",
     "text": [
      "Total Params: 27270213\n",
      "Source path =  /home/datasets/Project_data/train ; batch size = 10\n",
      "Epoch 1/20\n",
      "65/67 [============================>.] - ETA: 5s - loss: 7.4792 - categorical_accuracy: 0.2523Batch:  67 Index: 10\n",
      "67/67 [==============================] - ETA: 0s - loss: 7.3587 - categorical_accuracy: 0.2534Source path =  /home/datasets/Project_data/val ; batch size = 10\n",
      "\n",
      "Epoch 00001: val_loss improved from inf to 1.60960, saving model to model_init_2022-11-2016_28_42.043591/model-00001-7.35867-0.25339-1.60960-0.24000.h5\n",
      "67/67 [==============================] - 228s 3s/step - loss: 7.3587 - categorical_accuracy: 0.2534 - val_loss: 1.6096 - val_categorical_accuracy: 0.2400 - lr: 0.0010\n",
      "Epoch 2/20\n",
      "41/67 [=================>............] - ETA: 22s - loss: 1.4646 - categorical_accuracy: 0.4065\n",
      "Epoch 00002: val_loss did not improve from 1.60960\n",
      "67/67 [==============================] - 100s 2s/step - loss: 1.4427 - categorical_accuracy: 0.4030 - val_loss: 3.5516 - val_categorical_accuracy: 0.2000 - lr: 0.0010\n",
      "Epoch 3/20\n",
      "67/67 [==============================] - ETA: 0s - loss: 1.5283 - categorical_accuracy: 0.3930\n",
      "Epoch 00003: val_loss improved from 1.60960 to 1.42969, saving model to model_init_2022-11-2016_28_42.043591/model-00003-1.52825-0.39303-1.42969-0.35000.h5\n",
      "67/67 [==============================] - 98s 1s/step - loss: 1.5283 - categorical_accuracy: 0.3930 - val_loss: 1.4297 - val_categorical_accuracy: 0.3500 - lr: 0.0010\n",
      "Epoch 4/20\n",
      "67/67 [==============================] - ETA: 0s - loss: 1.3808 - categorical_accuracy: 0.4229\n",
      "Epoch 00004: val_loss improved from 1.42969 to 1.36028, saving model to model_init_2022-11-2016_28_42.043591/model-00004-1.38081-0.42289-1.36028-0.40000.h5\n",
      "67/67 [==============================] - 92s 1s/step - loss: 1.3808 - categorical_accuracy: 0.4229 - val_loss: 1.3603 - val_categorical_accuracy: 0.4000 - lr: 0.0010\n",
      "Epoch 5/20\n",
      "67/67 [==============================] - ETA: 0s - loss: 1.1493 - categorical_accuracy: 0.5871\n",
      "Epoch 00005: val_loss did not improve from 1.36028\n",
      "67/67 [==============================] - 102s 2s/step - loss: 1.1493 - categorical_accuracy: 0.5871 - val_loss: 1.4923 - val_categorical_accuracy: 0.4600 - lr: 0.0010\n",
      "Epoch 6/20\n",
      "67/67 [==============================] - ETA: 0s - loss: 1.1648 - categorical_accuracy: 0.5771\n",
      "Epoch 00006: val_loss improved from 1.36028 to 1.15245, saving model to model_init_2022-11-2016_28_42.043591/model-00006-1.16476-0.57711-1.15245-0.53000.h5\n",
      "67/67 [==============================] - 100s 2s/step - loss: 1.1648 - categorical_accuracy: 0.5771 - val_loss: 1.1524 - val_categorical_accuracy: 0.5300 - lr: 0.0010\n",
      "Epoch 7/20\n",
      "67/67 [==============================] - ETA: 0s - loss: 0.9831 - categorical_accuracy: 0.6169\n",
      "Epoch 00007: val_loss improved from 1.15245 to 0.91256, saving model to model_init_2022-11-2016_28_42.043591/model-00007-0.98312-0.61692-0.91256-0.57000.h5\n",
      "67/67 [==============================] - 77s 1s/step - loss: 0.9831 - categorical_accuracy: 0.6169 - val_loss: 0.9126 - val_categorical_accuracy: 0.5700 - lr: 0.0010\n",
      "Epoch 8/20\n",
      "67/67 [==============================] - ETA: 0s - loss: 0.8557 - categorical_accuracy: 0.6667\n",
      "Epoch 00008: val_loss improved from 0.91256 to 0.72582, saving model to model_init_2022-11-2016_28_42.043591/model-00008-0.85574-0.66667-0.72582-0.73000.h5\n",
      "67/67 [==============================] - 72s 1s/step - loss: 0.8557 - categorical_accuracy: 0.6667 - val_loss: 0.7258 - val_categorical_accuracy: 0.7300 - lr: 0.0010\n",
      "Epoch 9/20\n",
      "67/67 [==============================] - ETA: 0s - loss: 0.7674 - categorical_accuracy: 0.7065\n",
      "Epoch 00009: val_loss did not improve from 0.72582\n",
      "67/67 [==============================] - 74s 1s/step - loss: 0.7674 - categorical_accuracy: 0.7065 - val_loss: 0.9178 - val_categorical_accuracy: 0.6700 - lr: 0.0010\n",
      "Epoch 10/20\n",
      "67/67 [==============================] - ETA: 0s - loss: 0.7562 - categorical_accuracy: 0.7264\n",
      "Epoch 00010: val_loss did not improve from 0.72582\n",
      "\n",
      "Epoch 00010: ReduceLROnPlateau reducing learning rate to 0.0005000000237487257.\n",
      "67/67 [==============================] - 77s 1s/step - loss: 0.7562 - categorical_accuracy: 0.7264 - val_loss: 1.3558 - val_categorical_accuracy: 0.5400 - lr: 0.0010\n",
      "Epoch 11/20\n",
      "67/67 [==============================] - ETA: 0s - loss: 0.6940 - categorical_accuracy: 0.7363\n",
      "Epoch 00011: val_loss improved from 0.72582 to 0.58316, saving model to model_init_2022-11-2016_28_42.043591/model-00011-0.69396-0.73632-0.58316-0.75000.h5\n",
      "67/67 [==============================] - 76s 1s/step - loss: 0.6940 - categorical_accuracy: 0.7363 - val_loss: 0.5832 - val_categorical_accuracy: 0.7500 - lr: 5.0000e-04\n",
      "Epoch 12/20\n",
      "67/67 [==============================] - ETA: 0s - loss: 0.4137 - categorical_accuracy: 0.8657\n",
      "Epoch 00012: val_loss did not improve from 0.58316\n",
      "67/67 [==============================] - 78s 1s/step - loss: 0.4137 - categorical_accuracy: 0.8657 - val_loss: 0.6162 - val_categorical_accuracy: 0.7800 - lr: 5.0000e-04\n",
      "Epoch 13/20\n",
      "67/67 [==============================] - ETA: 0s - loss: 0.4271 - categorical_accuracy: 0.8458\n",
      "Epoch 00013: val_loss did not improve from 0.58316\n",
      "\n",
      "Epoch 00013: ReduceLROnPlateau reducing learning rate to 0.0002500000118743628.\n",
      "67/67 [==============================] - 73s 1s/step - loss: 0.4271 - categorical_accuracy: 0.8458 - val_loss: 0.7253 - val_categorical_accuracy: 0.7300 - lr: 5.0000e-04\n",
      "Epoch 14/20\n",
      "67/67 [==============================] - ETA: 0s - loss: 0.4632 - categorical_accuracy: 0.8109\n",
      "Epoch 00014: val_loss improved from 0.58316 to 0.37334, saving model to model_init_2022-11-2016_28_42.043591/model-00014-0.46322-0.81095-0.37334-0.82000.h5\n",
      "67/67 [==============================] - 73s 1s/step - loss: 0.4632 - categorical_accuracy: 0.8109 - val_loss: 0.3733 - val_categorical_accuracy: 0.8200 - lr: 2.5000e-04\n",
      "Epoch 15/20\n",
      "17/67 [======>.......................] - ETA: 37s - loss: 0.3250 - categorical_accuracy: 0.8824\n",
      "Epoch 00015: val_loss did not improve from 0.37334\n",
      "67/67 [==============================] - 76s 1s/step - loss: 0.2638 - categorical_accuracy: 0.9055 - val_loss: 0.3929 - val_categorical_accuracy: 0.8400 - lr: 2.5000e-04\n",
      "Epoch 16/20\n",
      "67/67 [==============================] - ETA: 0s - loss: 0.2275 - categorical_accuracy: 0.9353\n",
      "Epoch 00016: val_loss did not improve from 0.37334\n",
      "\n",
      "Epoch 00016: ReduceLROnPlateau reducing learning rate to 0.0001250000059371814.\n",
      "67/67 [==============================] - 73s 1s/step - loss: 0.2275 - categorical_accuracy: 0.9353 - val_loss: 0.5189 - val_categorical_accuracy: 0.7600 - lr: 2.5000e-04\n",
      "Epoch 17/20\n",
      "67/67 [==============================] - ETA: 0s - loss: 0.2026 - categorical_accuracy: 0.9303\n",
      "Epoch 00017: val_loss improved from 0.37334 to 0.22884, saving model to model_init_2022-11-2016_28_42.043591/model-00017-0.20260-0.93035-0.22884-0.92000.h5\n",
      "67/67 [==============================] - 76s 1s/step - loss: 0.2026 - categorical_accuracy: 0.9303 - val_loss: 0.2288 - val_categorical_accuracy: 0.9200 - lr: 1.2500e-04\n",
      "Epoch 18/20\n",
      "67/67 [==============================] - ETA: 0s - loss: 0.1575 - categorical_accuracy: 0.9502\n",
      "Epoch 00018: val_loss did not improve from 0.22884\n",
      "67/67 [==============================] - 89s 1s/step - loss: 0.1575 - categorical_accuracy: 0.9502 - val_loss: 0.3593 - val_categorical_accuracy: 0.8800 - lr: 1.2500e-04\n",
      "Epoch 19/20\n",
      "67/67 [==============================] - ETA: 0s - loss: 0.1542 - categorical_accuracy: 0.9453\n",
      "Epoch 00019: val_loss did not improve from 0.22884\n",
      "\n",
      "Epoch 00019: ReduceLROnPlateau reducing learning rate to 6.25000029685907e-05.\n",
      "67/67 [==============================] - 97s 1s/step - loss: 0.1542 - categorical_accuracy: 0.9453 - val_loss: 0.3409 - val_categorical_accuracy: 0.8800 - lr: 1.2500e-04\n",
      "Epoch 20/20\n",
      "67/67 [==============================] - ETA: 0s - loss: 0.1845 - categorical_accuracy: 0.9353\n",
      "Epoch 00020: val_loss did not improve from 0.22884\n",
      "67/67 [==============================] - 88s 1s/step - loss: 0.1845 - categorical_accuracy: 0.9353 - val_loss: 0.3387 - val_categorical_accuracy: 0.8700 - lr: 6.2500e-05\n"
     ]
    }
   ],
   "source": [
    "#Model fit \n",
    "num_epochs = 20\n",
    "print(\"Total Params:\", model3.count_params())\n",
    "exp3 = model3.fit(train_generator, steps_per_epoch=steps_per_epoch, epochs=num_epochs, verbose=1, \n",
    "                    callbacks=callbacks_list, validation_data=val_generator, \n",
    "                    validation_steps=validation_steps, class_weight=None, workers=1, initial_epoch=0)"
   ]
  },
  {
   "cell_type": "code",
   "execution_count": 64,
   "metadata": {},
   "outputs": [
    {
     "data": {
      "image/png": "[encoded data removed]",
      "text/plain": [
       "<Figure size 1080x288 with 2 Axes>"
      ]
     },
     "metadata": {
      "needs_background": "light"
     },
     "output_type": "display_data"
    }
   ],
   "source": [
    "plot(exp3)"
   ]
  },
  {
   "cell_type": "markdown",
   "metadata": {},
   "source": [
    "* Model performance significantly improved we do see better accuracy for both train and validation\n",
    "* Losses stablized after 15 Epochs\n",
    "* Trade off is that we have huge number of trainable parameters which increases time and memory\n",
    "* Let's increase batch size by a bit and decrease number of epochs a bit "
   ]
  },
  {
   "cell_type": "markdown",
   "metadata": {},
   "source": [
    "### Model 4\n",
    "**Increase batch size and decrease number of epochs to reduce memory usage and making training time fast**"
   ]
  },
  {
   "cell_type": "code",
   "execution_count": 65,
   "metadata": {},
   "outputs": [],
   "source": [
    "\n",
    "model4 = Sequential()\n",
    "\n",
    "model4.add(Conv3D(32, kernel_size = (3,3,3),padding='same', input_shape=(30,160,160,3)))\n",
    "model4.add(BatchNormalization())\n",
    "model4.add(Activation(\"relu\"))\n",
    "model4.add(MaxPooling3D(pool_size=(2, 2, 2)))\n",
    "\n",
    "model4.add(Conv3D(64, kernel_size = (3,3,3),padding='same'))\n",
    "model4.add(BatchNormalization())\n",
    "model4.add(Activation(\"relu\"))\n",
    "model4.add(MaxPooling3D(pool_size=(2, 2, 2)))\n",
    "\n",
    "model4.add(Conv3D(128, kernel_size = (3,3,3),padding='same'))\n",
    "model4.add(BatchNormalization())\n",
    "model4.add(Activation(\"relu\"))\n",
    "model4.add(MaxPooling3D(pool_size=(2, 2, 2)))\n",
    "model4.add(Dropout(0.2))\n",
    "\n",
    "model4.add(Conv3D(256, kernel_size = (3,3,3),padding='same'))\n",
    "model4.add(BatchNormalization())\n",
    "model4.add(Activation(\"relu\"))\n",
    "model4.add(MaxPooling3D(pool_size=(2, 2, 2)))\n",
    "model4.add(Dropout(0.2))\n",
    "\n",
    "model4.add(Flatten())\n",
    "\n",
    "model4.add(Dense(1000, activation='relu'))\n",
    "model4.add(Dropout(0.2))\n",
    "\n",
    "model4.add(Dense(500, activation='relu'))\n",
    "model4.add(Dropout(0.2))\n",
    "\n",
    "# 5 gestures 5 classes\n",
    "model4.add(Dense(5, activation = 'softmax'))"
   ]
  },
  {
   "cell_type": "code",
   "execution_count": 66,
   "metadata": {},
   "outputs": [],
   "source": [
    "#Defining params batch size frame size\n",
    "#trying the base model with frame size 120*120 & total 30 frames\n",
    "frame_size = 160\n",
    "frames_to_sample = 30 \n",
    "batch_size = 15\n",
    "train_generator = generator(frames_to_sample,frame_size,train_path, train_doc, batch_size)\n",
    "val_generator = generator(frames_to_sample,frame_size,val_path, val_doc, batch_size)"
   ]
  },
  {
   "cell_type": "code",
   "execution_count": 69,
   "metadata": {},
   "outputs": [],
   "source": [
    "#Can change Learning rate from here\n",
    "model_name = 'model_init' + '_' + str(curr_dt_time).replace(' ','').replace(':','_') + '/'\n",
    "    \n",
    "if not os.path.exists(model_name):\n",
    "    os.mkdir(model_name)\n",
    "        \n",
    "filepath = model_name + 'model-{epoch:05d}-{loss:.5f}-{categorical_accuracy:.5f}-{val_loss:.5f}-{val_categorical_accuracy:.5f}.h5'\n",
    "\n",
    "checkpoint = ModelCheckpoint(filepath, monitor='val_loss', verbose=1, save_best_only=False, save_weights_only=False, mode='auto',save_freq = \"epoch\")\n",
    "\n",
    "LR = ReduceLROnPlateau(monitor='val_loss', factor=0.5, patience=2, cooldown=1, verbose=1)# write the REducelronplateau code here\n",
    "callbacks_list = [checkpoint, LR]"
   ]
  },
  {
   "cell_type": "code",
   "execution_count": 70,
   "metadata": {},
   "outputs": [],
   "source": [
    "if (num_train_sequences%batch_size) == 0:\n",
    "    steps_per_epoch = int(num_train_sequences/batch_size)\n",
    "else:\n",
    "    steps_per_epoch = (num_train_sequences//batch_size) + 1\n",
    "\n",
    "if (num_val_sequences%batch_size) == 0:\n",
    "    validation_steps = int(num_val_sequences/batch_size)\n",
    "else:\n",
    "    validation_steps = (num_val_sequences//batch_size) + 1"
   ]
  },
  {
   "cell_type": "code",
   "execution_count": 71,
   "metadata": {},
   "outputs": [
    {
     "name": "stdout",
     "output_type": "stream",
     "text": [
      "Model: \"sequential_7\"\n",
      "_________________________________________________________________\n",
      " Layer (type)                Output Shape              Param #   \n",
      "=================================================================\n",
      " conv3d_28 (Conv3D)          (None, 30, 160, 160, 32)  2624      \n",
      "                                                                 \n",
      " batch_normalization_28 (Bat  (None, 30, 160, 160, 32)  128      \n",
      " chNormalization)                                                \n",
      "                                                                 \n",
      " activation_28 (Activation)  (None, 30, 160, 160, 32)  0         \n",
      "                                                                 \n",
      " max_pooling3d_28 (MaxPoolin  (None, 15, 80, 80, 32)   0         \n",
      " g3D)                                                            \n",
      "                                                                 \n",
      " conv3d_29 (Conv3D)          (None, 15, 80, 80, 64)    55360     \n",
      "                                                                 \n",
      " batch_normalization_29 (Bat  (None, 15, 80, 80, 64)   256       \n",
      " chNormalization)                                                \n",
      "                                                                 \n",
      " activation_29 (Activation)  (None, 15, 80, 80, 64)    0         \n",
      "                                                                 \n",
      " max_pooling3d_29 (MaxPoolin  (None, 7, 40, 40, 64)    0         \n",
      " g3D)                                                            \n",
      "                                                                 \n",
      " conv3d_30 (Conv3D)          (None, 7, 40, 40, 128)    221312    \n",
      "                                                                 \n",
      " batch_normalization_30 (Bat  (None, 7, 40, 40, 128)   512       \n",
      " chNormalization)                                                \n",
      "                                                                 \n",
      " activation_30 (Activation)  (None, 7, 40, 40, 128)    0         \n",
      "                                                                 \n",
      " max_pooling3d_30 (MaxPoolin  (None, 3, 20, 20, 128)   0         \n",
      " g3D)                                                            \n",
      "                                                                 \n",
      " dropout_22 (Dropout)        (None, 3, 20, 20, 128)    0         \n",
      "                                                                 \n",
      " conv3d_31 (Conv3D)          (None, 3, 20, 20, 256)    884992    \n",
      "                                                                 \n",
      " batch_normalization_31 (Bat  (None, 3, 20, 20, 256)   1024      \n",
      " chNormalization)                                                \n",
      "                                                                 \n",
      " activation_31 (Activation)  (None, 3, 20, 20, 256)    0         \n",
      "                                                                 \n",
      " max_pooling3d_31 (MaxPoolin  (None, 1, 10, 10, 256)   0         \n",
      " g3D)                                                            \n",
      "                                                                 \n",
      " dropout_23 (Dropout)        (None, 1, 10, 10, 256)    0         \n",
      "                                                                 \n",
      " flatten_7 (Flatten)         (None, 25600)             0         \n",
      "                                                                 \n",
      " dense_18 (Dense)            (None, 1000)              25601000  \n",
      "                                                                 \n",
      " dropout_24 (Dropout)        (None, 1000)              0         \n",
      "                                                                 \n",
      " dense_19 (Dense)            (None, 500)               500500    \n",
      "                                                                 \n",
      " dropout_25 (Dropout)        (None, 500)               0         \n",
      "                                                                 \n",
      " dense_20 (Dense)            (None, 5)                 2505      \n",
      "                                                                 \n",
      "=================================================================\n",
      "Total params: 27,270,213\n",
      "Trainable params: 27,269,253\n",
      "Non-trainable params: 960\n",
      "_________________________________________________________________\n",
      "None\n"
     ]
    }
   ],
   "source": [
    "optimiser = optimizers.Adam(lr = 0.001) #write your optimizer\n",
    "model4.compile(optimizer=optimiser, loss='categorical_crossentropy', metrics=['categorical_accuracy'])\n",
    "print (model4.summary())"
   ]
  },
  {
   "cell_type": "code",
   "execution_count": 72,
   "metadata": {},
   "outputs": [
    {
     "name": "stdout",
     "output_type": "stream",
     "text": [
      "Total Params: 27270213\n",
      "Epoch 1/15\n",
      "45/45 [==============================] - ETA: 0s - loss: 1.6014 - categorical_accuracy: 0.3185\n",
      "Epoch 00001: saving model to model_init_2022-11-2016_28_42.043591/model-00001-1.60143-0.31852-2.32631-0.19000.h5\n",
      "45/45 [==============================] - 58s 1s/step - loss: 1.6014 - categorical_accuracy: 0.3185 - val_loss: 2.3263 - val_categorical_accuracy: 0.1900 - lr: 0.0010\n",
      "Epoch 2/15\n",
      "45/45 [==============================] - ETA: 0s - loss: 1.4951 - categorical_accuracy: 0.3556\n",
      "Epoch 00002: saving model to model_init_2022-11-2016_28_42.043591/model-00002-1.49515-0.35556-1.45258-0.29000.h5\n",
      "45/45 [==============================] - 58s 1s/step - loss: 1.4951 - categorical_accuracy: 0.3556 - val_loss: 1.4526 - val_categorical_accuracy: 0.2900 - lr: 0.0010\n",
      "Epoch 3/15\n",
      "45/45 [==============================] - ETA: 0s - loss: 1.3219 - categorical_accuracy: 0.4593\n",
      "Epoch 00003: saving model to model_init_2022-11-2016_28_42.043591/model-00003-1.32194-0.45926-2.00611-0.44000.h5\n",
      "45/45 [==============================] - 58s 1s/step - loss: 1.3219 - categorical_accuracy: 0.4593 - val_loss: 2.0061 - val_categorical_accuracy: 0.4400 - lr: 0.0010\n",
      "Epoch 4/15\n",
      "45/45 [==============================] - ETA: 0s - loss: 1.2540 - categorical_accuracy: 0.4963\n",
      "Epoch 00004: saving model to model_init_2022-11-2016_28_42.043591/model-00004-1.25403-0.49630-2.56220-0.31000.h5\n",
      "\n",
      "Epoch 00004: ReduceLROnPlateau reducing learning rate to 0.0005000000237487257.\n",
      "45/45 [==============================] - 58s 1s/step - loss: 1.2540 - categorical_accuracy: 0.4963 - val_loss: 2.5622 - val_categorical_accuracy: 0.3100 - lr: 0.0010\n",
      "Epoch 5/15\n",
      "45/45 [==============================] - ETA: 0s - loss: 1.1454 - categorical_accuracy: 0.6074\n",
      "Epoch 00005: saving model to model_init_2022-11-2016_28_42.043591/model-00005-1.14541-0.60741-1.24409-0.50000.h5\n",
      "45/45 [==============================] - 55s 1s/step - loss: 1.1454 - categorical_accuracy: 0.6074 - val_loss: 1.2441 - val_categorical_accuracy: 0.5000 - lr: 5.0000e-04\n",
      "Epoch 6/15\n",
      "45/45 [==============================] - ETA: 0s - loss: 1.1903 - categorical_accuracy: 0.5185\n",
      "Epoch 00006: saving model to model_init_2022-11-2016_28_42.043591/model-00006-1.19031-0.51852-0.92186-0.69000.h5\n",
      "45/45 [==============================] - 57s 1s/step - loss: 1.1903 - categorical_accuracy: 0.5185 - val_loss: 0.9219 - val_categorical_accuracy: 0.6900 - lr: 5.0000e-04\n",
      "Epoch 7/15\n",
      "45/45 [==============================] - ETA: 0s - loss: 0.8521 - categorical_accuracy: 0.6963\n",
      "Epoch 00007: saving model to model_init_2022-11-2016_28_42.043591/model-00007-0.85210-0.69630-0.86655-0.66000.h5\n",
      "45/45 [==============================] - 61s 1s/step - loss: 0.8521 - categorical_accuracy: 0.6963 - val_loss: 0.8665 - val_categorical_accuracy: 0.6600 - lr: 5.0000e-04\n",
      "Epoch 8/15\n",
      "45/45 [==============================] - ETA: 0s - loss: 0.9088 - categorical_accuracy: 0.6370\n",
      "Epoch 00008: saving model to model_init_2022-11-2016_28_42.043591/model-00008-0.90879-0.63704-0.62067-0.76000.h5\n",
      "45/45 [==============================] - 56s 1s/step - loss: 0.9088 - categorical_accuracy: 0.6370 - val_loss: 0.6207 - val_categorical_accuracy: 0.7600 - lr: 5.0000e-04\n",
      "Epoch 9/15\n",
      "45/45 [==============================] - ETA: 0s - loss: 0.7818 - categorical_accuracy: 0.7037\n",
      "Epoch 00009: saving model to model_init_2022-11-2016_28_42.043591/model-00009-0.78183-0.70370-0.58022-0.76000.h5\n",
      "45/45 [==============================] - 60s 1s/step - loss: 0.7818 - categorical_accuracy: 0.7037 - val_loss: 0.5802 - val_categorical_accuracy: 0.7600 - lr: 5.0000e-04\n",
      "Epoch 10/15\n",
      "45/45 [==============================] - ETA: 0s - loss: 0.6185 - categorical_accuracy: 0.7704\n",
      "Epoch 00010: saving model to model_init_2022-11-2016_28_42.043591/model-00010-0.61853-0.77037-0.59519-0.77000.h5\n",
      "45/45 [==============================] - 57s 1s/step - loss: 0.6185 - categorical_accuracy: 0.7704 - val_loss: 0.5952 - val_categorical_accuracy: 0.7700 - lr: 5.0000e-04\n",
      "Epoch 11/15\n",
      "45/45 [==============================] - ETA: 0s - loss: 0.6001 - categorical_accuracy: 0.7259\n",
      "Epoch 00011: saving model to model_init_2022-11-2016_28_42.043591/model-00011-0.60011-0.72593-0.54829-0.84000.h5\n",
      "45/45 [==============================] - 56s 1s/step - loss: 0.6001 - categorical_accuracy: 0.7259 - val_loss: 0.5483 - val_categorical_accuracy: 0.8400 - lr: 5.0000e-04\n",
      "Epoch 12/15\n",
      "45/45 [==============================] - ETA: 0s - loss: 0.7750 - categorical_accuracy: 0.6519\n",
      "Epoch 00012: saving model to model_init_2022-11-2016_28_42.043591/model-00012-0.77500-0.65185-0.67964-0.72000.h5\n",
      "45/45 [==============================] - 60s 1s/step - loss: 0.7750 - categorical_accuracy: 0.6519 - val_loss: 0.6796 - val_categorical_accuracy: 0.7200 - lr: 5.0000e-04\n",
      "Epoch 13/15\n",
      "45/45 [==============================] - ETA: 0s - loss: 0.6915 - categorical_accuracy: 0.7259\n",
      "Epoch 00013: saving model to model_init_2022-11-2016_28_42.043591/model-00013-0.69148-0.72593-0.49403-0.80000.h5\n",
      "45/45 [==============================] - 56s 1s/step - loss: 0.6915 - categorical_accuracy: 0.7259 - val_loss: 0.4940 - val_categorical_accuracy: 0.8000 - lr: 5.0000e-04\n",
      "Epoch 14/15\n",
      " 8/45 [====>.........................] - ETA: 27s - loss: 0.3119 - categorical_accuracy: 0.8750\n",
      "Epoch 00014: saving model to model_init_2022-11-2016_28_42.043591/model-00014-0.54245-0.77037-0.47742-0.87000.h5\n",
      "45/45 [==============================] - 59s 1s/step - loss: 0.5424 - categorical_accuracy: 0.7704 - val_loss: 0.4774 - val_categorical_accuracy: 0.8700 - lr: 5.0000e-04\n",
      "Epoch 15/15\n",
      "45/45 [==============================] - ETA: 0s - loss: 0.4260 - categorical_accuracy: 0.8296\n",
      "Epoch 00015: saving model to model_init_2022-11-2016_28_42.043591/model-00015-0.42602-0.82963-0.43354-0.84000.h5\n",
      "45/45 [==============================] - 58s 1s/step - loss: 0.4260 - categorical_accuracy: 0.8296 - val_loss: 0.4335 - val_categorical_accuracy: 0.8400 - lr: 5.0000e-04\n"
     ]
    }
   ],
   "source": [
    "#Model fit \n",
    "num_epochs = 15\n",
    "print(\"Total Params:\", model4.count_params())\n",
    "exp4 = model4.fit(train_generator, steps_per_epoch=steps_per_epoch, epochs=num_epochs, verbose=1, \n",
    "                    callbacks=callbacks_list, validation_data=val_generator, \n",
    "                    validation_steps=validation_steps, class_weight=None, workers=1, initial_epoch=0)"
   ]
  },
  {
   "cell_type": "code",
   "execution_count": 73,
   "metadata": {},
   "outputs": [
    {
     "data": {
      "image/png": "[encoded data removed]",
      "text/plain": [
       "<Figure size 1080x288 with 2 Axes>"
      ]
     },
     "metadata": {
      "needs_background": "light"
     },
     "output_type": "display_data"
    }
   ],
   "source": [
    "plot(exp4)"
   ]
  },
  {
   "cell_type": "markdown",
   "metadata": {},
   "source": [
    "* Training time is faster now\n",
    "* Not enough change in accuracy for both test and train \n",
    "* Losss stablised at 15 Epoch"
   ]
  },
  {
   "cell_type": "markdown",
   "metadata": {},
   "source": [
    "### Model 5\n",
    "**Changing the Learning rate and decreasing frame size per video & batch size 15**"
   ]
  },
  {
   "cell_type": "code",
   "execution_count": 88,
   "metadata": {},
   "outputs": [],
   "source": [
    "\n",
    "model5 = Sequential()\n",
    "\n",
    "model5.add(Conv3D(32, kernel_size = (3,3,3),padding='same', input_shape=(30,100,100,3)))\n",
    "model5.add(BatchNormalization())\n",
    "model5.add(Activation(\"relu\"))\n",
    "model5.add(MaxPooling3D(pool_size=(2, 2, 2)))\n",
    "\n",
    "model5.add(Conv3D(64, kernel_size = (3,3,3),padding='same'))\n",
    "model5.add(BatchNormalization())\n",
    "model5.add(Activation(\"relu\"))\n",
    "model5.add(MaxPooling3D(pool_size=(2, 2, 2)))\n",
    "\n",
    "model5.add(Conv3D(128, kernel_size = (3,3,3),padding='same'))\n",
    "model5.add(BatchNormalization())\n",
    "model5.add(Activation(\"relu\"))\n",
    "model5.add(MaxPooling3D(pool_size=(2, 2, 2)))\n",
    "model5.add(Dropout(0.2))\n",
    "\n",
    "model5.add(Conv3D(256, kernel_size = (3,3,3),padding='same'))\n",
    "model5.add(BatchNormalization())\n",
    "model5.add(Activation(\"relu\"))\n",
    "model5.add(MaxPooling3D(pool_size=(2, 2, 2)))\n",
    "model5.add(Dropout(0.2))\n",
    "\n",
    "model5.add(Flatten())\n",
    "\n",
    "model5.add(Dense(1000, activation='relu'))\n",
    "model5.add(Dropout(0.2))\n",
    "\n",
    "model5.add(Dense(500, activation='relu'))\n",
    "model5.add(Dropout(0.2))\n",
    "\n",
    "# 5 gestures 5 classes\n",
    "model5.add(Dense(5, activation = 'softmax'))"
   ]
  },
  {
   "cell_type": "code",
   "execution_count": 89,
   "metadata": {},
   "outputs": [],
   "source": [
    "#Defining params batch size frame size\n",
    "#trying the base model with frame size 120*120 & total 30 frames\n",
    "frame_size = 100\n",
    "frames_to_sample = 30 \n",
    "train_generator = generator(frames_to_sample,frame_size,train_path, train_doc, batch_size)\n",
    "val_generator = generator(frames_to_sample,frame_size,val_path, val_doc, batch_size)"
   ]
  },
  {
   "cell_type": "code",
   "execution_count": 90,
   "metadata": {},
   "outputs": [],
   "source": [
    "\n",
    "model_name = 'model_init' + '_' + str(curr_dt_time).replace(' ','').replace(':','_') + '/'\n",
    "    \n",
    "if not os.path.exists(model_name):\n",
    "    os.mkdir(model_name)\n",
    "        \n",
    "filepath = model_name + 'model-{epoch:05d}-{loss:.5f}-{categorical_accuracy:.5f}-{val_loss:.5f}-{val_categorical_accuracy:.5f}.h5'\n",
    "\n",
    "checkpoint = ModelCheckpoint(filepath, monitor='val_loss', verbose=1, save_best_only=False, save_weights_only=False, mode='auto',save_freq = \"epoch\")\n",
    "\n",
    "LR = ReduceLROnPlateau(monitor='val_loss', factor=0.5, patience=2, cooldown=1, verbose=1)# write the REducelronplateau code here\n",
    "callbacks_list = [checkpoint, LR]"
   ]
  },
  {
   "cell_type": "code",
   "execution_count": 91,
   "metadata": {},
   "outputs": [],
   "source": [
    "#Steps per epoch\n",
    "\n",
    "if (num_train_sequences%batch_size) == 0:\n",
    "    steps_per_epoch = int(num_train_sequences/batch_size)\n",
    "else:\n",
    "    steps_per_epoch = (num_train_sequences//batch_size) + 1\n",
    "\n",
    "if (num_val_sequences%batch_size) == 0:\n",
    "    validation_steps = int(num_val_sequences/batch_size)\n",
    "else:\n",
    "    validation_steps = (num_val_sequences//batch_size) + 1"
   ]
  },
  {
   "cell_type": "code",
   "execution_count": 92,
   "metadata": {},
   "outputs": [
    {
     "name": "stdout",
     "output_type": "stream",
     "text": [
      "Model: \"sequential_12\"\n",
      "_________________________________________________________________\n",
      " Layer (type)                Output Shape              Param #   \n",
      "=================================================================\n",
      " conv3d_48 (Conv3D)          (None, 30, 100, 100, 32)  2624      \n",
      "                                                                 \n",
      " batch_normalization_48 (Bat  (None, 30, 100, 100, 32)  128      \n",
      " chNormalization)                                                \n",
      "                                                                 \n",
      " activation_48 (Activation)  (None, 30, 100, 100, 32)  0         \n",
      "                                                                 \n",
      " max_pooling3d_48 (MaxPoolin  (None, 15, 50, 50, 32)   0         \n",
      " g3D)                                                            \n",
      "                                                                 \n",
      " conv3d_49 (Conv3D)          (None, 15, 50, 50, 64)    55360     \n",
      "                                                                 \n",
      " batch_normalization_49 (Bat  (None, 15, 50, 50, 64)   256       \n",
      " chNormalization)                                                \n",
      "                                                                 \n",
      " activation_49 (Activation)  (None, 15, 50, 50, 64)    0         \n",
      "                                                                 \n",
      " max_pooling3d_49 (MaxPoolin  (None, 7, 25, 25, 64)    0         \n",
      " g3D)                                                            \n",
      "                                                                 \n",
      " conv3d_50 (Conv3D)          (None, 7, 25, 25, 128)    221312    \n",
      "                                                                 \n",
      " batch_normalization_50 (Bat  (None, 7, 25, 25, 128)   512       \n",
      " chNormalization)                                                \n",
      "                                                                 \n",
      " activation_50 (Activation)  (None, 7, 25, 25, 128)    0         \n",
      "                                                                 \n",
      " max_pooling3d_50 (MaxPoolin  (None, 3, 12, 12, 128)   0         \n",
      " g3D)                                                            \n",
      "                                                                 \n",
      " dropout_36 (Dropout)        (None, 3, 12, 12, 128)    0         \n",
      "                                                                 \n",
      " conv3d_51 (Conv3D)          (None, 3, 12, 12, 256)    884992    \n",
      "                                                                 \n",
      " batch_normalization_51 (Bat  (None, 3, 12, 12, 256)   1024      \n",
      " chNormalization)                                                \n",
      "                                                                 \n",
      " activation_51 (Activation)  (None, 3, 12, 12, 256)    0         \n",
      "                                                                 \n",
      " max_pooling3d_51 (MaxPoolin  (None, 1, 6, 6, 256)     0         \n",
      " g3D)                                                            \n",
      "                                                                 \n",
      " dropout_37 (Dropout)        (None, 1, 6, 6, 256)      0         \n",
      "                                                                 \n",
      " flatten_10 (Flatten)        (None, 9216)              0         \n",
      "                                                                 \n",
      " dense_27 (Dense)            (None, 1000)              9217000   \n",
      "                                                                 \n",
      " dropout_38 (Dropout)        (None, 1000)              0         \n",
      "                                                                 \n",
      " dense_28 (Dense)            (None, 500)               500500    \n",
      "                                                                 \n",
      " dropout_39 (Dropout)        (None, 500)               0         \n",
      "                                                                 \n",
      " dense_29 (Dense)            (None, 5)                 2505      \n",
      "                                                                 \n",
      "=================================================================\n",
      "Total params: 10,886,213\n",
      "Trainable params: 10,885,253\n",
      "Non-trainable params: 960\n",
      "_________________________________________________________________\n",
      "None\n"
     ]
    }
   ],
   "source": [
    "optimiser = optimizers.Adam(lr = 0.005) #Using Learning rate as 0.01 and Adam optimizer\n",
    "model5.compile(optimizer=optimiser, loss='categorical_crossentropy', metrics=['categorical_accuracy'])\n",
    "print (model5.summary())"
   ]
  },
  {
   "cell_type": "code",
   "execution_count": 93,
   "metadata": {},
   "outputs": [
    {
     "name": "stdout",
     "output_type": "stream",
     "text": [
      "Total Params: 10886213\n",
      "Source path =  /home/datasets/Project_data/train ; batch size = 15\n",
      "Epoch 1/15\n",
      "43/45 [===========================>..] - ETA: 5s - loss: 20.5410 - categorical_accuracy: 0.2450Batch:  45 Index: 15\n",
      "45/45 [==============================] - ETA: 0s - loss: 20.0207 - categorical_accuracy: 0.2489Source path =  /home/datasets/Project_data/val ; batch size = 15\n",
      "Batch:  7 Index: 15\n",
      "\n",
      "Epoch 00001: saving model to model_init_2022-11-2016_28_42.043591/model-00001-20.02066-0.24887-19.81154-0.25000.h5\n",
      "45/45 [==============================] - 154s 3s/step - loss: 20.0207 - categorical_accuracy: 0.2489 - val_loss: 19.8115 - val_categorical_accuracy: 0.2500 - lr: 0.0050\n",
      "Epoch 2/15\n",
      "45/45 [==============================] - ETA: 0s - loss: 1.6638 - categorical_accuracy: 0.2593\n",
      "Epoch 00002: saving model to model_init_2022-11-2016_28_42.043591/model-00002-1.66376-0.25926-8.98319-0.27143.h5\n",
      "45/45 [==============================] - 45s 1s/step - loss: 1.6638 - categorical_accuracy: 0.2593 - val_loss: 8.9832 - val_categorical_accuracy: 0.2714 - lr: 0.0050\n",
      "Epoch 3/15\n",
      "45/45 [==============================] - ETA: 0s - loss: 1.7292 - categorical_accuracy: 0.2519\n",
      "Epoch 00003: saving model to model_init_2022-11-2016_28_42.043591/model-00003-1.72916-0.25185-1.72113-0.32857.h5\n",
      "45/45 [==============================] - 43s 977ms/step - loss: 1.7292 - categorical_accuracy: 0.2519 - val_loss: 1.7211 - val_categorical_accuracy: 0.3286 - lr: 0.0050\n",
      "Epoch 4/15\n",
      "45/45 [==============================] - ETA: 0s - loss: 1.6079 - categorical_accuracy: 0.2370\n",
      "Epoch 00005: saving model to model_init_2022-11-2016_28_42.043591/model-00005-1.60791-0.23704-1.50600-0.35714.h5\n",
      "45/45 [==============================] - 47s 1s/step - loss: 1.6079 - categorical_accuracy: 0.2370 - val_loss: 1.5060 - val_categorical_accuracy: 0.3571 - lr: 0.0050\n",
      "Epoch 6/15\n",
      "45/45 [==============================] - ETA: 0s - loss: 1.6299 - categorical_accuracy: 0.2667\n",
      "Epoch 00006: saving model to model_init_2022-11-2016_28_42.043591/model-00006-1.62991-0.26667-1.63133-0.37143.h5\n",
      "45/45 [==============================] - 44s 1s/step - loss: 1.6299 - categorical_accuracy: 0.2667 - val_loss: 1.6313 - val_categorical_accuracy: 0.3714 - lr: 0.0050\n",
      "Epoch 7/15\n",
      "45/45 [==============================] - ETA: 0s - loss: 1.5592 - categorical_accuracy: 0.3778\n",
      "Epoch 00007: saving model to model_init_2022-11-2016_28_42.043591/model-00007-1.55923-0.37778-1.51025-0.34286.h5\n",
      "\n",
      "Epoch 00007: ReduceLROnPlateau reducing learning rate to 0.0024999999441206455.\n",
      "45/45 [==============================] - 45s 1s/step - loss: 1.5592 - categorical_accuracy: 0.3778 - val_loss: 1.5103 - val_categorical_accuracy: 0.3429 - lr: 0.0050\n",
      "Epoch 8/15\n",
      "45/45 [==============================] - ETA: 0s - loss: 1.5614 - categorical_accuracy: 0.2593\n",
      "Epoch 00008: saving model to model_init_2022-11-2016_28_42.043591/model-00008-1.56139-0.25926-1.51449-0.28571.h5\n",
      "45/45 [==============================] - 44s 1s/step - loss: 1.5614 - categorical_accuracy: 0.2593 - val_loss: 1.5145 - val_categorical_accuracy: 0.2857 - lr: 0.0025\n",
      "Epoch 9/15\n",
      "45/45 [==============================] - ETA: 0s - loss: 1.4022 - categorical_accuracy: 0.4074\n",
      "Epoch 00009: saving model to model_init_2022-11-2016_28_42.043591/model-00009-1.40221-0.40741-1.24242-0.40000.h5\n",
      "45/45 [==============================] - 47s 1s/step - loss: 1.4022 - categorical_accuracy: 0.4074 - val_loss: 1.2424 - val_categorical_accuracy: 0.4000 - lr: 0.0025\n",
      "Epoch 10/15\n",
      "45/45 [==============================] - ETA: 0s - loss: 1.3353 - categorical_accuracy: 0.4074\n",
      "Epoch 00010: saving model to model_init_2022-11-2016_28_42.043591/model-00010-1.33533-0.40741-1.15448-0.50000.h5\n",
      "45/45 [==============================] - 43s 968ms/step - loss: 1.3353 - categorical_accuracy: 0.4074 - val_loss: 1.1545 - val_categorical_accuracy: 0.5000 - lr: 0.0025\n",
      "Epoch 11/15\n",
      "45/45 [==============================] - ETA: 0s - loss: 1.2453 - categorical_accuracy: 0.4519\n",
      "Epoch 00011: saving model to model_init_2022-11-2016_28_42.043591/model-00011-1.24530-0.45185-2.02238-0.44286.h5\n",
      "45/45 [==============================] - 45s 1s/step - loss: 1.2453 - categorical_accuracy: 0.4519 - val_loss: 2.0224 - val_categorical_accuracy: 0.4429 - lr: 0.0025\n",
      "Epoch 12/15\n",
      "45/45 [==============================] - ETA: 0s - loss: 1.3441 - categorical_accuracy: 0.5111\n",
      "Epoch 00012: saving model to model_init_2022-11-2016_28_42.043591/model-00012-1.34412-0.51111-1.20403-0.47143.h5\n",
      "\n",
      "Epoch 00012: ReduceLROnPlateau reducing learning rate to 0.0012499999720603228.\n",
      "45/45 [==============================] - 46s 1s/step - loss: 1.3441 - categorical_accuracy: 0.5111 - val_loss: 1.2040 - val_categorical_accuracy: 0.4714 - lr: 0.0025\n",
      "Epoch 13/15\n",
      "45/45 [==============================] - ETA: 0s - loss: 1.1357 - categorical_accuracy: 0.5333\n",
      "Epoch 00013: saving model to model_init_2022-11-2016_28_42.043591/model-00013-1.13573-0.53333-1.07781-0.54286.h5\n",
      "45/45 [==============================] - 44s 1s/step - loss: 1.1357 - categorical_accuracy: 0.5333 - val_loss: 1.0778 - val_categorical_accuracy: 0.5429 - lr: 0.0012\n",
      "Epoch 14/15\n",
      "45/45 [==============================] - ETA: 0s - loss: 1.2101 - categorical_accuracy: 0.5407\n",
      "Epoch 00014: saving model to model_init_2022-11-2016_28_42.043591/model-00014-1.21012-0.54074-2.12971-0.35714.h5\n",
      "45/45 [==============================] - 46s 1s/step - loss: 1.2101 - categorical_accuracy: 0.5407 - val_loss: 2.1297 - val_categorical_accuracy: 0.3571 - lr: 0.0012\n",
      "Epoch 15/15\n",
      "45/45 [==============================] - ETA: 0s - loss: 1.2113 - categorical_accuracy: 0.5037\n",
      "Epoch 00015: saving model to model_init_2022-11-2016_28_42.043591/model-00015-1.21134-0.50370-1.14963-0.52857.h5\n",
      "\n",
      "Epoch 00015: ReduceLROnPlateau reducing learning rate to 0.0006249999860301614.\n",
      "45/45 [==============================] - 45s 1s/step - loss: 1.2113 - categorical_accuracy: 0.5037 - val_loss: 1.1496 - val_categorical_accuracy: 0.5286 - lr: 0.0012\n"
     ]
    }
   ],
   "source": [
    "#Model fit \n",
    "print(\"Total Params:\", model5.count_params())\n",
    "exp5 = model5.fit(train_generator, steps_per_epoch=steps_per_epoch, epochs=num_epochs, verbose=1, \n",
    "                    callbacks=callbacks_list, validation_data=val_generator, \n",
    "                    validation_steps=validation_steps, class_weight=None, workers=1, initial_epoch=0)"
   ]
  },
  {
   "cell_type": "code",
   "execution_count": 94,
   "metadata": {},
   "outputs": [
    {
     "data": {
      "image/png": "[encoded data removed]",
      "text/plain": [
       "<Figure size 1080x288 with 2 Axes>"
      ]
     },
     "metadata": {
      "needs_background": "light"
     },
     "output_type": "display_data"
    }
   ],
   "source": [
    "plot(exp5)"
   ]
  },
  {
   "cell_type": "markdown",
   "metadata": {},
   "source": [
    "* By reducing frame size and Learning rate we notice the accuracy decreased to around 50% from 90%\n",
    "* Not an ideal model for real time"
   ]
  },
  {
   "cell_type": "markdown",
   "metadata": {},
   "source": [
    "### Model 6\n",
    "**Learning rate = 0.001 & image size 120*120 & 20 Epochs & batch size 12**"
   ]
  },
  {
   "cell_type": "code",
   "execution_count": 18,
   "metadata": {},
   "outputs": [],
   "source": [
    "\n",
    "model6 = Sequential()\n",
    "\n",
    "model6.add(Conv3D(32, kernel_size = (3,3,3),padding='same', input_shape=(30,120,120,3)))\n",
    "model6.add(BatchNormalization())\n",
    "model6.add(Activation(\"relu\"))\n",
    "model6.add(MaxPooling3D(pool_size=(2, 2, 2)))\n",
    "\n",
    "model6.add(Conv3D(64, kernel_size = (3,3,3),padding='same'))\n",
    "model6.add(BatchNormalization())\n",
    "model6.add(Activation(\"relu\"))\n",
    "model6.add(MaxPooling3D(pool_size=(2, 2, 2)))\n",
    "\n",
    "model6.add(Conv3D(128, kernel_size = (3,3,3),padding='same'))\n",
    "model6.add(BatchNormalization())\n",
    "model6.add(Activation(\"relu\"))\n",
    "model6.add(MaxPooling3D(pool_size=(2, 2, 2)))\n",
    "model6.add(Dropout(0.2))\n",
    "\n",
    "model6.add(Conv3D(256, kernel_size = (3,3,3),padding='same'))\n",
    "model6.add(BatchNormalization())\n",
    "model6.add(Activation(\"relu\"))\n",
    "model6.add(MaxPooling3D(pool_size=(2, 2, 2)))\n",
    "model6.add(Dropout(0.2))\n",
    "\n",
    "model6.add(Flatten())\n",
    "\n",
    "model6.add(Dense(1000, activation='relu'))\n",
    "model6.add(Dropout(0.2))\n",
    "\n",
    "model6.add(Dense(500, activation='relu'))\n",
    "model6.add(Dropout(0.2))\n",
    "\n",
    "# 5 gestures 5 classes\n",
    "model6.add(Dense(5, activation = 'softmax'))"
   ]
  },
  {
   "cell_type": "code",
   "execution_count": 19,
   "metadata": {},
   "outputs": [],
   "source": [
    "#Defining params batch size frame size\n",
    "#trying the base model with frame size 120*120 & total 30 frames\n",
    "frame_size = 120\n",
    "frames_to_sample = 30 \n",
    "batch_size = 12\n",
    "train_generator = generator(frames_to_sample,frame_size,train_path, train_doc, batch_size)\n",
    "val_generator = generator(frames_to_sample,frame_size,val_path, val_doc, batch_size)"
   ]
  },
  {
   "cell_type": "code",
   "execution_count": 20,
   "metadata": {},
   "outputs": [],
   "source": [
    "\n",
    "model_name = 'model_init' + '_' + str(curr_dt_time).replace(' ','').replace(':','_') + '/'\n",
    "    \n",
    "if not os.path.exists(model_name):\n",
    "    os.mkdir(model_name)\n",
    "        \n",
    "filepath = model_name + 'model-{epoch:05d}-{loss:.5f}-{categorical_accuracy:.5f}-{val_loss:.5f}-{val_categorical_accuracy:.5f}.h5'\n",
    "\n",
    "checkpoint = ModelCheckpoint(filepath, monitor='val_loss', verbose=1, save_best_only=False, save_weights_only=False, mode='auto',save_freq = \"epoch\")\n",
    "\n",
    "LR = ReduceLROnPlateau(monitor='val_loss', factor=0.5, patience=2, cooldown=1, verbose=1)# write the REducelronplateau code here\n",
    "callbacks_list = [checkpoint, LR]"
   ]
  },
  {
   "cell_type": "code",
   "execution_count": 21,
   "metadata": {},
   "outputs": [],
   "source": [
    "#Steps per epoch\n",
    "\n",
    "if (num_train_sequences%batch_size) == 0:\n",
    "    steps_per_epoch = int(num_train_sequences/batch_size)\n",
    "else:\n",
    "    steps_per_epoch = (num_train_sequences//batch_size) + 1\n",
    "\n",
    "if (num_val_sequences%batch_size) == 0:\n",
    "    validation_steps = int(num_val_sequences/batch_size)\n",
    "else:\n",
    "    validation_steps = (num_val_sequences//batch_size) + 1"
   ]
  },
  {
   "cell_type": "code",
   "execution_count": 24,
   "metadata": {},
   "outputs": [
    {
     "name": "stdout",
     "output_type": "stream",
     "text": [
      "Model: \"sequential_2\"\n",
      "_________________________________________________________________\n",
      " Layer (type)                Output Shape              Param #   \n",
      "=================================================================\n",
      " conv3d_3 (Conv3D)           (None, 30, 120, 120, 32)  2624      \n",
      "                                                                 \n",
      " batch_normalization_3 (Batc  (None, 30, 120, 120, 32)  128      \n",
      " hNormalization)                                                 \n",
      "                                                                 \n",
      " activation_4 (Activation)   (None, 30, 120, 120, 32)  0         \n",
      "                                                                 \n",
      " max_pooling3d_3 (MaxPooling  (None, 15, 60, 60, 32)   0         \n",
      " 3D)                                                             \n",
      "                                                                 \n",
      " conv3d_4 (Conv3D)           (None, 15, 60, 60, 64)    55360     \n",
      "                                                                 \n",
      " batch_normalization_4 (Batc  (None, 15, 60, 60, 64)   256       \n",
      " hNormalization)                                                 \n",
      "                                                                 \n",
      " activation_5 (Activation)   (None, 15, 60, 60, 64)    0         \n",
      "                                                                 \n",
      " max_pooling3d_4 (MaxPooling  (None, 7, 30, 30, 64)    0         \n",
      " 3D)                                                             \n",
      "                                                                 \n",
      " conv3d_5 (Conv3D)           (None, 7, 30, 30, 128)    221312    \n",
      "                                                                 \n",
      " batch_normalization_5 (Batc  (None, 7, 30, 30, 128)   512       \n",
      " hNormalization)                                                 \n",
      "                                                                 \n",
      " activation_6 (Activation)   (None, 7, 30, 30, 128)    0         \n",
      "                                                                 \n",
      " max_pooling3d_5 (MaxPooling  (None, 3, 15, 15, 128)   0         \n",
      " 3D)                                                             \n",
      "                                                                 \n",
      " dropout_4 (Dropout)         (None, 3, 15, 15, 128)    0         \n",
      "                                                                 \n",
      " conv3d_6 (Conv3D)           (None, 3, 15, 15, 256)    884992    \n",
      "                                                                 \n",
      " batch_normalization_6 (Batc  (None, 3, 15, 15, 256)   1024      \n",
      " hNormalization)                                                 \n",
      "                                                                 \n",
      " activation_7 (Activation)   (None, 3, 15, 15, 256)    0         \n",
      "                                                                 \n",
      " max_pooling3d_6 (MaxPooling  (None, 1, 7, 7, 256)     0         \n",
      " 3D)                                                             \n",
      "                                                                 \n",
      " dropout_5 (Dropout)         (None, 1, 7, 7, 256)      0         \n",
      "                                                                 \n",
      " flatten_2 (Flatten)         (None, 12544)             0         \n",
      "                                                                 \n",
      " dense_5 (Dense)             (None, 1000)              12545000  \n",
      "                                                                 \n",
      " dropout_6 (Dropout)         (None, 1000)              0         \n",
      "                                                                 \n",
      " dense_6 (Dense)             (None, 500)               500500    \n",
      "                                                                 \n",
      " dropout_7 (Dropout)         (None, 500)               0         \n",
      "                                                                 \n",
      " dense_7 (Dense)             (None, 5)                 2505      \n",
      "                                                                 \n",
      "=================================================================\n",
      "Total params: 14,214,213\n",
      "Trainable params: 14,213,253\n",
      "Non-trainable params: 960\n",
      "_________________________________________________________________\n",
      "None\n"
     ]
    }
   ],
   "source": [
    "optimiser = optimizers.Adam(lr = 0.001) #Using Learning rate as 0.01 and Adam optimizer\n",
    "model6.compile(optimizer=optimiser, loss='categorical_crossentropy', metrics=['categorical_accuracy'])\n",
    "print (model6.summary())"
   ]
  },
  {
   "cell_type": "code",
   "execution_count": 25,
   "metadata": {},
   "outputs": [
    {
     "name": "stdout",
     "output_type": "stream",
     "text": [
      "Total Params: 14214213\n",
      "Source path =  /home/datasets/Project_data/train ; batch size = 12\n",
      "Epoch 1/20\n",
      "54/56 [===========================>..] - ETA: 4s - loss: 5.3925 - categorical_accuracy: 0.3302Batch:  56 Index: 12\n",
      "56/56 [==============================] - ETA: 0s - loss: 5.2920 - categorical_accuracy: 0.3379Source path =  /home/datasets/Project_data/val ; batch size = 12\n",
      "Batch:  9 Index: 12\n",
      "\n",
      "Epoch 00001: saving model to model_init_2022-11-2115_14_24.214734/model-00001-5.29198-0.33786-1.68267-0.17000.h5\n",
      "56/56 [==============================] - 160s 3s/step - loss: 5.2920 - categorical_accuracy: 0.3379 - val_loss: 1.6827 - val_categorical_accuracy: 0.1700 - lr: 0.0010\n",
      "Epoch 2/20\n",
      "56/56 [==============================] - ETA: 0s - loss: 1.4502 - categorical_accuracy: 0.3631\n",
      "Epoch 00002: saving model to model_init_2022-11-2115_14_24.214734/model-00002-1.45023-0.36310-2.90764-0.16667.h5\n",
      "56/56 [==============================] - 41s 735ms/step - loss: 1.4502 - categorical_accuracy: 0.3631 - val_loss: 2.9076 - val_categorical_accuracy: 0.1667 - lr: 0.0010\n",
      "Epoch 3/20\n",
      "56/56 [==============================] - ETA: 0s - loss: 1.3377 - categorical_accuracy: 0.4643\n",
      "Epoch 00003: saving model to model_init_2022-11-2115_14_24.214734/model-00003-1.33770-0.46429-1.92423-0.27778.h5\n",
      "\n",
      "Epoch 00003: ReduceLROnPlateau reducing learning rate to 0.0005000000237487257.\n",
      "56/56 [==============================] - 44s 797ms/step - loss: 1.3377 - categorical_accuracy: 0.4643 - val_loss: 1.9242 - val_categorical_accuracy: 0.2778 - lr: 0.0010\n",
      "Epoch 4/20\n",
      "56/56 [==============================] - ETA: 0s - loss: 1.0599 - categorical_accuracy: 0.5655\n",
      "Epoch 00004: saving model to model_init_2022-11-2115_14_24.214734/model-00004-1.05994-0.56548-2.17990-0.22222.h5\n",
      "56/56 [==============================] - 45s 813ms/step - loss: 1.0599 - categorical_accuracy: 0.5655 - val_loss: 2.1799 - val_categorical_accuracy: 0.2222 - lr: 5.0000e-04\n",
      "Epoch 5/20\n",
      "56/56 [==============================] - ETA: 0s - loss: 1.0644 - categorical_accuracy: 0.5774\n",
      "Epoch 00005: saving model to model_init_2022-11-2115_14_24.214734/model-00005-1.06440-0.57738-1.49382-0.38889.h5\n",
      "56/56 [==============================] - 40s 734ms/step - loss: 1.0644 - categorical_accuracy: 0.5774 - val_loss: 1.4938 - val_categorical_accuracy: 0.3889 - lr: 5.0000e-04\n",
      "Epoch 6/20\n",
      "56/56 [==============================] - ETA: 0s - loss: 0.8298 - categorical_accuracy: 0.6488\n",
      "Epoch 00006: saving model to model_init_2022-11-2115_14_24.214734/model-00006-0.82983-0.64881-1.59864-0.50000.h5\n",
      "56/56 [==============================] - 41s 739ms/step - loss: 0.8298 - categorical_accuracy: 0.6488 - val_loss: 1.5986 - val_categorical_accuracy: 0.5000 - lr: 5.0000e-04\n",
      "Epoch 7/20\n",
      "56/56 [==============================] - ETA: 0s - loss: 0.9201 - categorical_accuracy: 0.6429\n",
      "Epoch 00007: saving model to model_init_2022-11-2115_14_24.214734/model-00007-0.92014-0.64286-1.14111-0.58333.h5\n",
      "56/56 [==============================] - 45s 813ms/step - loss: 0.9201 - categorical_accuracy: 0.6429 - val_loss: 1.1411 - val_categorical_accuracy: 0.5833 - lr: 5.0000e-04\n",
      "Epoch 8/20\n",
      "56/56 [==============================] - ETA: 0s - loss: 0.7952 - categorical_accuracy: 0.6845\n",
      "Epoch 00008: saving model to model_init_2022-11-2115_14_24.214734/model-00008-0.79523-0.68452-0.82132-0.66667.h5\n",
      "56/56 [==============================] - 44s 800ms/step - loss: 0.7952 - categorical_accuracy: 0.6845 - val_loss: 0.8213 - val_categorical_accuracy: 0.6667 - lr: 5.0000e-04\n",
      "Epoch 9/20\n",
      "56/56 [==============================] - ETA: 0s - loss: 0.7197 - categorical_accuracy: 0.7381\n",
      "Epoch 00009: saving model to model_init_2022-11-2115_14_24.214734/model-00009-0.71971-0.73810-1.38688-0.50000.h5\n",
      "56/56 [==============================] - 45s 826ms/step - loss: 0.7197 - categorical_accuracy: 0.7381 - val_loss: 1.3869 - val_categorical_accuracy: 0.5000 - lr: 5.0000e-04\n",
      "Epoch 10/20\n",
      "56/56 [==============================] - ETA: 0s - loss: 0.7062 - categorical_accuracy: 0.6905\n",
      "Epoch 00010: saving model to model_init_2022-11-2115_14_24.214734/model-00010-0.70620-0.69048-0.79374-0.61111.h5\n",
      "56/56 [==============================] - 41s 738ms/step - loss: 0.7062 - categorical_accuracy: 0.6905 - val_loss: 0.7937 - val_categorical_accuracy: 0.6111 - lr: 5.0000e-04\n",
      "Epoch 11/20\n",
      "56/56 [==============================] - ETA: 0s - loss: 0.5670 - categorical_accuracy: 0.7857\n",
      "Epoch 00011: saving model to model_init_2022-11-2115_14_24.214734/model-00011-0.56697-0.78571-0.62572-0.77778.h5\n",
      "56/56 [==============================] - 45s 818ms/step - loss: 0.5670 - categorical_accuracy: 0.7857 - val_loss: 0.6257 - val_categorical_accuracy: 0.7778 - lr: 5.0000e-04\n",
      "Epoch 12/20\n",
      "56/56 [==============================] - ETA: 0s - loss: 0.7042 - categorical_accuracy: 0.7560\n",
      "Epoch 00012: saving model to model_init_2022-11-2115_14_24.214734/model-00012-0.70416-0.75595-0.71877-0.72222.h5\n",
      "56/56 [==============================] - 46s 840ms/step - loss: 0.7042 - categorical_accuracy: 0.7560 - val_loss: 0.7188 - val_categorical_accuracy: 0.7222 - lr: 5.0000e-04\n",
      "Epoch 13/20\n",
      "56/56 [==============================] - ETA: 0s - loss: 0.6590 - categorical_accuracy: 0.7679\n",
      "Epoch 00013: saving model to model_init_2022-11-2115_14_24.214734/model-00013-0.65899-0.76786-1.28857-0.61111.h5\n",
      "\n",
      "Epoch 00013: ReduceLROnPlateau reducing learning rate to 0.0002500000118743628.\n",
      "56/56 [==============================] - 42s 765ms/step - loss: 0.6590 - categorical_accuracy: 0.7679 - val_loss: 1.2886 - val_categorical_accuracy: 0.6111 - lr: 5.0000e-04\n",
      "Epoch 14/20\n",
      "56/56 [==============================] - ETA: 0s - loss: 0.4296 - categorical_accuracy: 0.8512\n",
      "Epoch 00014: saving model to model_init_2022-11-2115_14_24.214734/model-00014-0.42959-0.85119-0.43836-0.83333.h5\n",
      "56/56 [==============================] - 43s 785ms/step - loss: 0.4296 - categorical_accuracy: 0.8512 - val_loss: 0.4384 - val_categorical_accuracy: 0.8333 - lr: 2.5000e-04\n",
      "Epoch 15/20\n",
      "56/56 [==============================] - ETA: 0s - loss: 0.3814 - categorical_accuracy: 0.8452\n",
      "Epoch 00015: saving model to model_init_2022-11-2115_14_24.214734/model-00015-0.38135-0.84524-0.34326-0.86111.h5\n",
      "56/56 [==============================] - 43s 786ms/step - loss: 0.3814 - categorical_accuracy: 0.8452 - val_loss: 0.3433 - val_categorical_accuracy: 0.8611 - lr: 2.5000e-04\n",
      "Epoch 16/20\n",
      "56/56 [==============================] - ETA: 0s - loss: 0.3180 - categorical_accuracy: 0.8929\n",
      "Epoch 00016: saving model to model_init_2022-11-2115_14_24.214734/model-00016-0.31803-0.89286-0.67444-0.66667.h5\n",
      "56/56 [==============================] - 45s 818ms/step - loss: 0.3180 - categorical_accuracy: 0.8929 - val_loss: 0.6744 - val_categorical_accuracy: 0.6667 - lr: 2.5000e-04\n",
      "Epoch 17/20\n",
      "56/56 [==============================] - ETA: 0s - loss: 0.2087 - categorical_accuracy: 0.9167\n",
      "Epoch 00017: saving model to model_init_2022-11-2115_14_24.214734/model-00017-0.20874-0.91667-0.29238-0.91667.h5\n",
      "56/56 [==============================] - 44s 793ms/step - loss: 0.2087 - categorical_accuracy: 0.9167 - val_loss: 0.2924 - val_categorical_accuracy: 0.9167 - lr: 2.5000e-04\n",
      "Epoch 18/20\n",
      "56/56 [==============================] - ETA: 0s - loss: 0.2042 - categorical_accuracy: 0.9345\n",
      "Epoch 00018: saving model to model_init_2022-11-2115_14_24.214734/model-00018-0.20423-0.93452-0.19751-0.91667.h5\n",
      "56/56 [==============================] - 44s 793ms/step - loss: 0.2042 - categorical_accuracy: 0.9345 - val_loss: 0.1975 - val_categorical_accuracy: 0.9167 - lr: 2.5000e-04\n",
      "Epoch 19/20\n",
      "56/56 [==============================] - ETA: 0s - loss: 0.2156 - categorical_accuracy: 0.8988\n",
      "Epoch 00019: saving model to model_init_2022-11-2115_14_24.214734/model-00019-0.21561-0.89881-0.66945-0.69444.h5\n",
      "56/56 [==============================] - 43s 777ms/step - loss: 0.2156 - categorical_accuracy: 0.8988 - val_loss: 0.6694 - val_categorical_accuracy: 0.6944 - lr: 2.5000e-04\n",
      "Epoch 20/20\n",
      "56/56 [==============================] - ETA: 0s - loss: 0.3847 - categorical_accuracy: 0.8631\n",
      "Epoch 00020: saving model to model_init_2022-11-2115_14_24.214734/model-00020-0.38472-0.86310-0.32983-0.88889.h5\n",
      "\n",
      "Epoch 00020: ReduceLROnPlateau reducing learning rate to 0.0001250000059371814.\n",
      "56/56 [==============================] - 44s 802ms/step - loss: 0.3847 - categorical_accuracy: 0.8631 - val_loss: 0.3298 - val_categorical_accuracy: 0.8889 - lr: 2.5000e-04\n"
     ]
    }
   ],
   "source": [
    "#Model fit \n",
    "num_epochs = 20\n",
    "print(\"Total Params:\", model6.count_params())\n",
    "exp6 = model6.fit(train_generator, steps_per_epoch=steps_per_epoch, epochs=num_epochs, verbose=1, \n",
    "                    callbacks=callbacks_list, validation_data=val_generator, \n",
    "                    validation_steps=validation_steps, class_weight=None, workers=1, initial_epoch=0)"
   ]
  },
  {
   "cell_type": "code",
   "execution_count": 26,
   "metadata": {},
   "outputs": [
    {
     "data": {
      "image/png": "[encoded data removed]",
      "text/plain": [
       "<Figure size 1080x288 with 2 Axes>"
      ]
     },
     "metadata": {
      "needs_background": "light"
     },
     "output_type": "display_data"
    }
   ],
   "source": [
    "plot(exp6)"
   ]
  },
  {
   "cell_type": "markdown",
   "metadata": {},
   "source": [
    "* Training accuracy reached around 90%\n",
    "* Validation accuracy is not stable"
   ]
  },
  {
   "cell_type": "markdown",
   "metadata": {},
   "source": [
    "### Model 7 \n",
    "**Using CNN + RNN Combination (Tranfer Learning)**\n"
   ]
  },
  {
   "cell_type": "code",
   "execution_count": 8,
   "metadata": {},
   "outputs": [],
   "source": [
    "from keras.models import Sequential, Model\n",
    "from keras.layers import Dense, GRU, Flatten, TimeDistributed, Flatten, BatchNormalization, Activation\n",
    "from keras.layers.convolutional import Conv3D, MaxPooling3D\n",
    "from keras.layers import Dropout\n",
    "from keras.callbacks import ModelCheckpoint, ReduceLROnPlateau\n",
    "import tensorflow\n",
    "import keras\n",
    "from keras import optimizers\n",
    "#from tensorflow.keras import optimizers"
   ]
  },
  {
   "cell_type": "code",
   "execution_count": 9,
   "metadata": {},
   "outputs": [],
   "source": [
    "batch_size = 10\n",
    "y = 160 # changing image crop size as mobilenet application expects size to be one of [128, 160, 192, 224]\n",
    "z = 160"
   ]
  },
  {
   "cell_type": "code",
   "execution_count": 10,
   "metadata": {},
   "outputs": [
    {
     "name": "stdout",
     "output_type": "stream",
     "text": [
      "Downloading data from https://storage.googleapis.com/tensorflow/keras-applications/mobilenet/mobilenet_1_0_160_tf_no_top.h5\n",
      "17227776/17225924 [==============================] - 1s 0us/step\n",
      "17235968/17225924 [==============================] - 1s 0us/step\n"
     ]
    }
   ],
   "source": [
    "mn = keras.applications.mobilenet.MobileNet(include_top = False, weights='imagenet',input_shape=(160, 160, 3))"
   ]
  },
  {
   "cell_type": "code",
   "execution_count": 11,
   "metadata": {},
   "outputs": [],
   "source": [
    "model7 = Sequential()\n",
    "\n",
    "model7.add(TimeDistributed(mn, input_shape = (30,160,160,3)))\n",
    "\n",
    "model7.add(TimeDistributed(Flatten()))\n",
    "\n",
    "model7.add(GRU(64,return_sequences=False))\n",
    "\n",
    "model7.add(Dense(256))\n",
    "model7.add(Activation(\"relu\"))\n",
    "model7.add(Dropout(0.3))\n",
    "\n",
    "model7.add(Dense(5, activation = 'softmax'))"
   ]
  },
  {
   "cell_type": "code",
   "execution_count": 12,
   "metadata": {},
   "outputs": [
    {
     "name": "stdout",
     "output_type": "stream",
     "text": [
      "Model: \"sequential_1\"\n",
      "_________________________________________________________________\n",
      " Layer (type)                Output Shape              Param #   \n",
      "=================================================================\n",
      " time_distributed (TimeDistr  (None, 30, 5, 5, 1024)   3228864   \n",
      " ibuted)                                                         \n",
      "                                                                 \n",
      " time_distributed_1 (TimeDis  (None, 30, 25600)        0         \n",
      " tributed)                                                       \n",
      "                                                                 \n",
      " gru (GRU)                   (None, 64)                4927872   \n",
      "                                                                 \n",
      " dense_3 (Dense)             (None, 256)               16640     \n",
      "                                                                 \n",
      " activation_3 (Activation)   (None, 256)               0         \n",
      "                                                                 \n",
      " dropout_3 (Dropout)         (None, 256)               0         \n",
      "                                                                 \n",
      " dense_4 (Dense)             (None, 5)                 1285      \n",
      "                                                                 \n",
      "=================================================================\n",
      "Total params: 8,174,661\n",
      "Trainable params: 8,152,773\n",
      "Non-trainable params: 21,888\n",
      "_________________________________________________________________\n",
      "None\n"
     ]
    }
   ],
   "source": [
    "#Optimizer\n",
    "\n",
    "opt = tensorflow.keras.optimizers.SGD(lr=0.001, decay=0.00001, momentum=0.8, nesterov=True)\n",
    "model7.compile(optimizer=opt, loss='categorical_crossentropy', metrics=['categorical_accuracy'])\n",
    "print (model7.summary())"
   ]
  },
  {
   "cell_type": "code",
   "execution_count": 13,
   "metadata": {},
   "outputs": [],
   "source": [
    "#Defining params batch size frame size\n",
    "#trying the base model with frame size 160*160 & total 30 frames\n",
    "frame_size = 160\n",
    "frames_to_sample = 30 \n",
    "batch_size = 15\n",
    "train_generator = generator(frames_to_sample,frame_size,train_path, train_doc, batch_size)\n",
    "val_generator = generator(frames_to_sample,frame_size,val_path, val_doc, batch_size)"
   ]
  },
  {
   "cell_type": "code",
   "execution_count": 14,
   "metadata": {},
   "outputs": [
    {
     "name": "stdout",
     "output_type": "stream",
     "text": [
      "WARNING:tensorflow:`period` argument is deprecated. Please use `save_freq` to specify the frequency in number of batches seen.\n"
     ]
    }
   ],
   "source": [
    "model_name = 'model_init' + '_' + str(curr_dt_time).replace(' ','').replace(':','_') + '/'\n",
    "    \n",
    "if not os.path.exists(model_name):\n",
    "    os.mkdir(model_name)\n",
    "        \n",
    "filepath = model_name + 'model-{epoch:05d}-{loss:.5f}-{categorical_accuracy:.5f}-{val_loss:.5f}-{val_categorical_accuracy:.5f}.h5'\n",
    "\n",
    "checkpoint = ModelCheckpoint(filepath, monitor='val_loss', verbose=1, save_best_only=True, save_weights_only=False, mode='auto', period=1)\n",
    "\n",
    "LR = ReduceLROnPlateau(monitor='val_loss', factor=0.5, patience=2, cooldown=1, verbose=1) # write the REducelronplateau code here\n",
    "callbacks_list = [checkpoint, LR]"
   ]
  },
  {
   "cell_type": "code",
   "execution_count": 15,
   "metadata": {},
   "outputs": [],
   "source": [
    "if (num_train_sequences%batch_size) == 0:\n",
    "    steps_per_epoch = int(num_train_sequences/batch_size)\n",
    "else:\n",
    "    steps_per_epoch = (num_train_sequences//batch_size) + 1\n",
    "\n",
    "if (num_val_sequences%batch_size) == 0:\n",
    "    validation_steps = int(num_val_sequences/batch_size)\n",
    "else:\n",
    "    validation_steps = (num_val_sequences//batch_size) + 1"
   ]
  },
  {
   "cell_type": "code",
   "execution_count": 16,
   "metadata": {},
   "outputs": [
    {
     "name": "stdout",
     "output_type": "stream",
     "text": [
      "Source path =  /home/datasets/Project_data/train ; batch size = 15\n",
      "Epoch 1/20\n"
     ]
    },
    {
     "name": "stderr",
     "output_type": "stream",
     "text": [
      "2022-11-21 15:24:50.000959: I tensorflow/stream_executor/cuda/cuda_dnn.cc:377] Loaded cuDNN version 8302\n"
     ]
    },
    {
     "name": "stdout",
     "output_type": "stream",
     "text": [
      "43/45 [===========================>..] - ETA: 6s - loss: 1.3035 - categorical_accuracy: 0.4775 Batch:  45 Index: 15\n",
      "45/45 [==============================] - ETA: 0s - loss: 1.2956 - categorical_accuracy: 0.4842Source path =  /home/datasets/Project_data/val ; batch size = 15\n",
      "Batch:  7 Index: 15\n",
      "\n",
      "Epoch 00001: val_loss improved from inf to 0.98575, saving model to model_init_2022-11-2115_14_24.214734/model-00001-1.29563-0.48416-0.98575-0.62000.h5\n",
      "45/45 [==============================] - 181s 4s/step - loss: 1.2956 - categorical_accuracy: 0.4842 - val_loss: 0.9857 - val_categorical_accuracy: 0.6200 - lr: 0.0010\n",
      "Epoch 2/20\n",
      "45/45 [==============================] - ETA: 0s - loss: 0.9806 - categorical_accuracy: 0.6667\n",
      "Epoch 00002: val_loss improved from 0.98575 to 0.98121, saving model to model_init_2022-11-2115_14_24.214734/model-00002-0.98058-0.66667-0.98121-0.71429.h5\n",
      "45/45 [==============================] - 50s 1s/step - loss: 0.9806 - categorical_accuracy: 0.6667 - val_loss: 0.9812 - val_categorical_accuracy: 0.7143 - lr: 0.0010\n",
      "Epoch 3/20\n",
      "45/45 [==============================] - ETA: 0s - loss: 0.8678 - categorical_accuracy: 0.7037\n",
      "Epoch 00003: val_loss improved from 0.98121 to 0.57515, saving model to model_init_2022-11-2115_14_24.214734/model-00003-0.86779-0.70370-0.57515-0.84286.h5\n",
      "45/45 [==============================] - 52s 1s/step - loss: 0.8678 - categorical_accuracy: 0.7037 - val_loss: 0.5752 - val_categorical_accuracy: 0.8429 - lr: 0.0010\n",
      "Epoch 4/20\n",
      "45/45 [==============================] - ETA: 0s - loss: 0.7682 - categorical_accuracy: 0.7407\n",
      "Epoch 00004: val_loss improved from 0.57515 to 0.46380, saving model to model_init_2022-11-2115_14_24.214734/model-00004-0.76825-0.74074-0.46380-0.88571.h5\n",
      "45/45 [==============================] - 49s 1s/step - loss: 0.7682 - categorical_accuracy: 0.7407 - val_loss: 0.4638 - val_categorical_accuracy: 0.8857 - lr: 0.0010\n",
      "Epoch 5/20\n",
      "45/45 [==============================] - ETA: 0s - loss: 0.6319 - categorical_accuracy: 0.7852\n",
      "Epoch 00005: val_loss did not improve from 0.46380\n",
      "45/45 [==============================] - 48s 1s/step - loss: 0.6319 - categorical_accuracy: 0.7852 - val_loss: 0.5460 - val_categorical_accuracy: 0.8286 - lr: 0.0010\n",
      "Epoch 6/20\n",
      "45/45 [==============================] - ETA: 0s - loss: 0.5630 - categorical_accuracy: 0.8074\n",
      "Epoch 00006: val_loss improved from 0.46380 to 0.32809, saving model to model_init_2022-11-2115_14_24.214734/model-00006-0.56300-0.80741-0.32809-0.88571.h5\n",
      "45/45 [==============================] - 51s 1s/step - loss: 0.5630 - categorical_accuracy: 0.8074 - val_loss: 0.3281 - val_categorical_accuracy: 0.8857 - lr: 0.0010\n",
      "Epoch 7/20\n",
      "45/45 [==============================] - ETA: 0s - loss: 0.4964 - categorical_accuracy: 0.8296\n",
      "Epoch 00007: val_loss did not improve from 0.32809\n",
      "45/45 [==============================] - 50s 1s/step - loss: 0.4964 - categorical_accuracy: 0.8296 - val_loss: 0.3671 - val_categorical_accuracy: 0.8429 - lr: 0.0010\n",
      "Epoch 8/20\n",
      "45/45 [==============================] - ETA: 0s - loss: 0.2988 - categorical_accuracy: 0.8963\n",
      "Epoch 00008: val_loss did not improve from 0.32809\n",
      "\n",
      "Epoch 00008: ReduceLROnPlateau reducing learning rate to 0.0005000000237487257.\n",
      "45/45 [==============================] - 52s 1s/step - loss: 0.2988 - categorical_accuracy: 0.8963 - val_loss: 0.5172 - val_categorical_accuracy: 0.7714 - lr: 0.0010\n",
      "Epoch 9/20\n",
      "45/45 [==============================] - ETA: 0s - loss: 0.2846 - categorical_accuracy: 0.9333\n",
      "Epoch 00009: val_loss improved from 0.32809 to 0.27939, saving model to model_init_2022-11-2115_14_24.214734/model-00009-0.28459-0.93333-0.27939-0.91429.h5\n",
      "45/45 [==============================] - 51s 1s/step - loss: 0.2846 - categorical_accuracy: 0.9333 - val_loss: 0.2794 - val_categorical_accuracy: 0.9143 - lr: 5.0000e-04\n",
      "Epoch 10/20\n",
      "45/45 [==============================] - ETA: 0s - loss: 0.2341 - categorical_accuracy: 0.9333\n",
      "Epoch 00010: val_loss did not improve from 0.27939\n",
      "45/45 [==============================] - 49s 1s/step - loss: 0.2341 - categorical_accuracy: 0.9333 - val_loss: 0.2943 - val_categorical_accuracy: 0.8714 - lr: 5.0000e-04\n",
      "Epoch 11/20\n",
      "45/45 [==============================] - ETA: 0s - loss: 0.2080 - categorical_accuracy: 0.9481\n",
      "Epoch 00011: val_loss improved from 0.27939 to 0.27036, saving model to model_init_2022-11-2115_14_24.214734/model-00011-0.20796-0.94815-0.27036-0.90000.h5\n",
      "45/45 [==============================] - 48s 1s/step - loss: 0.2080 - categorical_accuracy: 0.9481 - val_loss: 0.2704 - val_categorical_accuracy: 0.9000 - lr: 5.0000e-04\n",
      "Epoch 12/20\n",
      "45/45 [==============================] - ETA: 0s - loss: 0.1502 - categorical_accuracy: 0.9630\n",
      "Epoch 00012: val_loss did not improve from 0.27036\n",
      "45/45 [==============================] - 51s 1s/step - loss: 0.1502 - categorical_accuracy: 0.9630 - val_loss: 0.3119 - val_categorical_accuracy: 0.8714 - lr: 5.0000e-04\n",
      "Epoch 13/20\n",
      "45/45 [==============================] - ETA: 0s - loss: 0.1919 - categorical_accuracy: 0.9481\n",
      "Epoch 00013: val_loss improved from 0.27036 to 0.24761, saving model to model_init_2022-11-2115_14_24.214734/model-00013-0.19190-0.94815-0.24761-0.92857.h5\n",
      "45/45 [==============================] - 50s 1s/step - loss: 0.1919 - categorical_accuracy: 0.9481 - val_loss: 0.2476 - val_categorical_accuracy: 0.9286 - lr: 5.0000e-04\n",
      "Epoch 14/20\n",
      "45/45 [==============================] - ETA: 0s - loss: 0.1360 - categorical_accuracy: 0.9852\n",
      "Epoch 00014: val_loss improved from 0.24761 to 0.23135, saving model to model_init_2022-11-2115_14_24.214734/model-00014-0.13595-0.98519-0.23135-0.88571.h5\n",
      "45/45 [==============================] - 53s 1s/step - loss: 0.1360 - categorical_accuracy: 0.9852 - val_loss: 0.2313 - val_categorical_accuracy: 0.8857 - lr: 5.0000e-04\n",
      "Epoch 15/20\n",
      "45/45 [==============================] - ETA: 0s - loss: 0.1247 - categorical_accuracy: 0.9778\n",
      "Epoch 00015: val_loss improved from 0.23135 to 0.21677, saving model to model_init_2022-11-2115_14_24.214734/model-00015-0.12472-0.97778-0.21677-0.95714.h5\n",
      "45/45 [==============================] - 49s 1s/step - loss: 0.1247 - categorical_accuracy: 0.9778 - val_loss: 0.2168 - val_categorical_accuracy: 0.9571 - lr: 5.0000e-04\n",
      "Epoch 16/20\n",
      "45/45 [==============================] - ETA: 0s - loss: 0.1269 - categorical_accuracy: 0.9630\n",
      "Epoch 00016: val_loss did not improve from 0.21677\n",
      "45/45 [==============================] - 48s 1s/step - loss: 0.1269 - categorical_accuracy: 0.9630 - val_loss: 0.2869 - val_categorical_accuracy: 0.8857 - lr: 5.0000e-04\n",
      "Epoch 17/20\n",
      "45/45 [==============================] - ETA: 0s - loss: 0.1031 - categorical_accuracy: 0.9778\n",
      "Epoch 00017: val_loss improved from 0.21677 to 0.20772, saving model to model_init_2022-11-2115_14_24.214734/model-00017-0.10314-0.97778-0.20772-0.95714.h5\n",
      "45/45 [==============================] - 52s 1s/step - loss: 0.1031 - categorical_accuracy: 0.9778 - val_loss: 0.2077 - val_categorical_accuracy: 0.9571 - lr: 5.0000e-04\n",
      "Epoch 18/20\n",
      "45/45 [==============================] - ETA: 0s - loss: 0.0778 - categorical_accuracy: 0.9926\n",
      "Epoch 00018: val_loss did not improve from 0.20772\n",
      "45/45 [==============================] - 51s 1s/step - loss: 0.0778 - categorical_accuracy: 0.9926 - val_loss: 0.3609 - val_categorical_accuracy: 0.8714 - lr: 5.0000e-04\n",
      "Epoch 19/20\n",
      "45/45 [==============================] - ETA: 0s - loss: 0.1021 - categorical_accuracy: 0.9852\n",
      "Epoch 00019: val_loss did not improve from 0.20772\n",
      "\n",
      "Epoch 00019: ReduceLROnPlateau reducing learning rate to 0.0002500000118743628.\n",
      "45/45 [==============================] - 50s 1s/step - loss: 0.1021 - categorical_accuracy: 0.9852 - val_loss: 0.2661 - val_categorical_accuracy: 0.8714 - lr: 5.0000e-04\n",
      "Epoch 20/20\n",
      "45/45 [==============================] - ETA: 0s - loss: 0.0907 - categorical_accuracy: 0.9926\n",
      "Epoch 00020: val_loss did not improve from 0.20772\n",
      "45/45 [==============================] - 48s 1s/step - loss: 0.0907 - categorical_accuracy: 0.9926 - val_loss: 0.2572 - val_categorical_accuracy: 0.9000 - lr: 2.5000e-04\n"
     ]
    }
   ],
   "source": [
    "num_epochs = 20\n",
    "exp7 = model7.fit(train_generator, steps_per_epoch=steps_per_epoch, epochs=num_epochs, verbose=1, \n",
    "                    callbacks=callbacks_list, validation_data=val_generator, \n",
    "                    validation_steps=validation_steps, class_weight=None, workers=1, initial_epoch=0)"
   ]
  },
  {
   "cell_type": "code",
   "execution_count": 17,
   "metadata": {},
   "outputs": [
    {
     "data": {
      "image/png": "[encoded data removed]",
      "text/plain": [
       "<Figure size 1080x288 with 2 Axes>"
      ]
     },
     "metadata": {
      "needs_background": "light"
     },
     "output_type": "display_data"
    }
   ],
   "source": [
    "plot(exp7)"
   ]
  },
  {
   "cell_type": "markdown",
   "metadata": {},
   "source": [
    "* Losses stablizes after 18 Epochs\n",
    "* Both train and validation accuracy are good with train accuracy nearing 98% & validation around 90%"
   ]
  },
  {
   "cell_type": "markdown",
   "metadata": {},
   "source": [
    "### Conclusion\n",
    "\n",
    "* Model 7 is by far the best model when we used CNN & RNN combination with frame size of 160 and #Epochs = 20\n",
    "* Model 4 & 5 can be also used if we want to use Convolution 3D as both of them had training and validation accuracy near to 90%\n"
   ]
  },
  {
   "cell_type": "code",
   "execution_count": null,
   "metadata": {},
   "outputs": [],
   "source": []
  }
 ],
 "metadata": {
  "kernelspec": {
   "display_name": "Python 3 (ipykernel)",
   "language": "python",
   "name": "python3"
  },
  "language_info": {
   "codemirror_mode": {
    "name": "ipython",
    "version": 3
   },
   "file_extension": ".py",
   "mimetype": "text/x-python",
   "name": "python",
   "nbconvert_exporter": "python",
   "pygments_lexer": "ipython3",
   "version": "3.8.10"
  }
 },
 "nbformat": 4,
 "nbformat_minor": 4
}
